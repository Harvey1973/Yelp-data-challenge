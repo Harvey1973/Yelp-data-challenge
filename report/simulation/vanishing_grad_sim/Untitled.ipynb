{
 "cells": [
  {
   "cell_type": "code",
   "execution_count": 41,
   "metadata": {},
   "outputs": [],
   "source": [
    "import numpy as np\n",
    "import keras\n",
    "from keras import backend as K\n",
    "from  keras.utils import to_categorical"
   ]
  },
  {
   "cell_type": "code",
   "execution_count": 46,
   "metadata": {},
   "outputs": [],
   "source": [
    "class Gradient_History(keras.callbacks.Callback):\n",
    "    def __init__(self):\n",
    "        self.sigmoid_weight_history = []\n",
    "    def get_layer_output_grad(self,model, inputs, outputs, layer=0):\n",
    "        \"\"\" Gets gradient a layer output for given inputs and outputs\"\"\"\n",
    "        grads = model.optimizer.get_gradients(model.total_loss, model.layers[layer].output)\n",
    "        symb_inputs = (model._feed_inputs + model._feed_targets + model._feed_sample_weights)\n",
    "        f = K.function(symb_inputs, grads)\n",
    "        x, y, sample_weight = model._standardize_user_data(inputs, outputs)\n",
    "        output_grad = f(x + y + sample_weight)\n",
    "        #return output_grad\n",
    "        print(\"!!!\")\n",
    "        self.sigmoid_weight_history.append(output_grad)"
   ]
  },
  {
   "cell_type": "code",
   "execution_count": 47,
   "metadata": {},
   "outputs": [],
   "source": [
    "gradient_history = Gradient_History()\n",
    "N = 300 \n",
    "p = 150 \n",
    "C = 10 \n",
    "X = np.random.randn(N,p)\n",
    "y = to_categorical(np.random.randint(C,size=(N,)))"
   ]
  },
  {
   "cell_type": "code",
   "execution_count": 50,
   "metadata": {},
   "outputs": [
    {
     "name": "stdout",
     "output_type": "stream",
     "text": [
      "Epoch 1/20\n",
      "300/300 [==============================] - 0s 1ms/step - loss: 5.3259 - acc: 0.1233\n",
      "Epoch 2/20\n",
      "300/300 [==============================] - 0s 28us/step - loss: 5.0348 - acc: 0.1233\n",
      "Epoch 3/20\n",
      "300/300 [==============================] - 0s 23us/step - loss: 5.2522 - acc: 0.1233\n",
      "Epoch 4/20\n",
      "300/300 [==============================] - 0s 27us/step - loss: 12.3572 - acc: 0.1233\n",
      "Epoch 5/20\n",
      "300/300 [==============================] - 0s 26us/step - loss: 12.3572 - acc: 0.1233\n",
      "Epoch 6/20\n",
      "300/300 [==============================] - 0s 26us/step - loss: 12.3572 - acc: 0.1233\n",
      "Epoch 7/20\n",
      "300/300 [==============================] - 0s 28us/step - loss: 12.3572 - acc: 0.1233\n",
      "Epoch 8/20\n",
      "300/300 [==============================] - 0s 27us/step - loss: 12.3572 - acc: 0.1233\n",
      "Epoch 9/20\n",
      "300/300 [==============================] - 0s 25us/step - loss: 12.3572 - acc: 0.1233\n",
      "Epoch 10/20\n",
      "300/300 [==============================] - 0s 28us/step - loss: 12.3572 - acc: 0.1233\n",
      "Epoch 11/20\n",
      "300/300 [==============================] - 0s 29us/step - loss: 12.3572 - acc: 0.1233\n",
      "Epoch 12/20\n",
      "300/300 [==============================] - 0s 26us/step - loss: 12.3572 - acc: 0.1233\n",
      "Epoch 13/20\n",
      "300/300 [==============================] - 0s 28us/step - loss: 12.3572 - acc: 0.1233\n",
      "Epoch 14/20\n",
      "300/300 [==============================] - 0s 35us/step - loss: 12.3572 - acc: 0.1233\n",
      "Epoch 15/20\n",
      "300/300 [==============================] - 0s 28us/step - loss: 12.3572 - acc: 0.1233\n",
      "Epoch 16/20\n",
      "300/300 [==============================] - 0s 26us/step - loss: 12.3572 - acc: 0.1233\n",
      "Epoch 17/20\n",
      "300/300 [==============================] - 0s 31us/step - loss: 12.3572 - acc: 0.1233\n",
      "Epoch 18/20\n",
      "300/300 [==============================] - 0s 29us/step - loss: 12.3572 - acc: 0.1233\n",
      "Epoch 19/20\n",
      "300/300 [==============================] - 0s 28us/step - loss: 12.3572 - acc: 0.1233\n",
      "Epoch 20/20\n",
      "300/300 [==============================] - 0s 30us/step - loss: 12.3572 - acc: 0.1233\n"
     ]
    }
   ],
   "source": [
    "#,input_shape = (10, )\n",
    "model = keras.Sequential()\n",
    "model.add(keras.layers.Dense(64, activation='sigmoid'))\n",
    "model.add(keras.layers.Dense(128, activation='sigmoid'))\n",
    "model.add(keras.layers.Dense(32, activation='sigmoid'))\n",
    "model.add(keras.layers.Dense(10))\n",
    "model.compile(optimizer='rmsprop',\n",
    "              loss='categorical_crossentropy',\n",
    "              metrics=['accuracy'])\n",
    "\n",
    "\n",
    "#dummy_loss = model.train_on_batch(dummy_in, dummy_out\n",
    "model.fit(X, y, batch_size=128, epochs=20, verbose=1, callbacks=[gradient_history])\n",
    "\n",
    "def get_weight_grad(model, inputs, outputs):\n",
    "    \"\"\" Gets gradient of model for given inputs and outputs for all weights\"\"\"\n",
    "    grads = model.optimizer.get_gradients(model.total_loss, model.trainable_weights)\n",
    "    symb_inputs = (model._feed_inputs + model._feed_targets + model._feed_sample_weights)\n",
    "    f = K.function(symb_inputs, grads)\n",
    "    x, y, sample_weight = model._standardize_user_data(inputs, outputs)\n",
    "    output_grad = f(x + y + sample_weight)\n",
    "    return output_grad\n",
    "\n",
    "\n",
    "def get_layer_output_grad(model, inputs, outputs, layer=0):\n",
    "    \"\"\" Gets gradient a layer output for given inputs and outputs\"\"\"\n",
    "    grads = model.optimizer.get_gradients(model.total_loss, model.layers[layer].output)\n",
    "    symb_inputs = (model._feed_inputs + model._feed_targets + model._feed_sample_weights)\n",
    "    f = K.function(symb_inputs, grads)\n",
    "    x, y, sample_weight = model._standardize_user_data(inputs, outputs)\n",
    "    output_grad = f(x + y + sample_weight)\n",
    "    return output_grad\n",
    "\n",
    "\n",
    "#weight_grads = get_weight_grad(model, dummy_in, dummy_out)\n",
    "#output_grad = get_layer_output_grad(model, dummy_in, dummy_out)"
   ]
  },
  {
   "cell_type": "code",
   "execution_count": 51,
   "metadata": {},
   "outputs": [
    {
     "data": {
      "text/plain": [
       "[]"
      ]
     },
     "execution_count": 51,
     "metadata": {},
     "output_type": "execute_result"
    }
   ],
   "source": [
    "gradient_history.sigmoid_weight_history"
   ]
  },
  {
   "cell_type": "code",
   "execution_count": null,
   "metadata": {},
   "outputs": [],
   "source": [
    "import matplotlib.pyplot as plt\n",
    "epochs = range(1, len(20) + 1) \n",
    "plt.plot(epochs, train_val_1, \"b\", label = \"validation acc without dropout\") # \"bo\" gives dot plot\n",
    "plt.plot(epochs, train_val_2, \"r\", label = \"Validation acc with dropout\") # \"bo\" gives dot plot\n",
    "#plt.plot(epochs, val_acc, \"r\", label = \"Validation acc\") # \"b\" gives line plot\n",
    "plt.title(\"validation accuracy compare\")\n",
    "plt.ylim((0,1))\n",
    "plt.legend()\n",
    "plt.savefig(\"drop_out\")\n",
    "plt.show()"
   ]
  },
  {
   "cell_type": "code",
   "execution_count": 39,
   "metadata": {},
   "outputs": [
    {
     "data": {
      "text/plain": [
       "[]"
      ]
     },
     "execution_count": 39,
     "metadata": {},
     "output_type": "execute_result"
    }
   ],
   "source": [
    "#print(len(gradient_history.sigmoid_weight_history))\n"
   ]
  },
  {
   "cell_type": "code",
   "execution_count": null,
   "metadata": {},
   "outputs": [],
   "source": []
  }
 ],
 "metadata": {
  "kernelspec": {
   "display_name": "Python 3",
   "language": "python",
   "name": "python3"
  },
  "language_info": {
   "codemirror_mode": {
    "name": "ipython",
    "version": 3
   },
   "file_extension": ".py",
   "mimetype": "text/x-python",
   "name": "python",
   "nbconvert_exporter": "python",
   "pygments_lexer": "ipython3",
   "version": "3.6.4"
  }
 },
 "nbformat": 4,
 "nbformat_minor": 2
}
