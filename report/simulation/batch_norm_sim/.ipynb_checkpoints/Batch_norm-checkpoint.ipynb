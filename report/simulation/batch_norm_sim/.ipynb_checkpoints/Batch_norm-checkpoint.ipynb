{
 "cells": [
  {
   "cell_type": "code",
   "execution_count": 63,
   "metadata": {},
   "outputs": [],
   "source": [
    "from keras.models import Sequential\n",
    "from keras.layers import Dense, Activation,Flatten,BatchNormalization\n",
    "import numpy as np\n",
    "from keras.utils import to_categorical"
   ]
  },
  {
   "cell_type": "code",
   "execution_count": 93,
   "metadata": {},
   "outputs": [
    {
     "name": "stdout",
     "output_type": "stream",
     "text": [
      "(300, 150)\n",
      "(300, 10)\n"
     ]
    }
   ],
   "source": [
    "N, D, H1, H2, C = 300, 150, 20, 30, 10\n",
    "X = np.random.randn(N, D)\n",
    "y = to_categorical(np.random.randint(C, size=(N,)))\n",
    "print(X.shape)\n",
    "print(y.shape)"
   ]
  },
  {
   "cell_type": "code",
   "execution_count": 101,
   "metadata": {},
   "outputs": [
    {
     "name": "stdout",
     "output_type": "stream",
     "text": [
      "_________________________________________________________________\n",
      "Layer (type)                 Output Shape              Param #   \n",
      "=================================================================\n",
      "dense_68 (Dense)             (None, 20)                3020      \n",
      "_________________________________________________________________\n",
      "activation_37 (Activation)   (None, 20)                0         \n",
      "_________________________________________________________________\n",
      "dense_69 (Dense)             (None, 30)                630       \n",
      "_________________________________________________________________\n",
      "activation_38 (Activation)   (None, 30)                0         \n",
      "_________________________________________________________________\n",
      "dense_70 (Dense)             (None, 10)                310       \n",
      "=================================================================\n",
      "Total params: 3,960\n",
      "Trainable params: 3,960\n",
      "Non-trainable params: 0\n",
      "_________________________________________________________________\n"
     ]
    }
   ],
   "source": [
    "model = Sequential()\n",
    "model.add(Dense(20, input_dim=150))\n",
    "model.add(Activation('sigmoid'))\n",
    "model.add(Dense(30))\n",
    "model.add(Activation('sigmoid'))\n",
    "model.add(Dense(10, activation='softmax'))\n",
    "model.compile(loss='categorical_crossentropy', optimizer='adam', metrics=['accuracy'])\n",
    "model.summary()"
   ]
  },
  {
   "cell_type": "code",
   "execution_count": 102,
   "metadata": {
    "scrolled": false
   },
   "outputs": [
    {
     "name": "stdout",
     "output_type": "stream",
     "text": [
      "Epoch 1/50\n",
      "300/300 [==============================] - 1s 2ms/step - loss: 2.3742 - acc: 0.0933\n",
      "Epoch 2/50\n",
      "300/300 [==============================] - 0s 133us/step - loss: 2.3078 - acc: 0.0967\n",
      "Epoch 3/50\n",
      "300/300 [==============================] - 0s 130us/step - loss: 2.2858 - acc: 0.1233\n",
      "Epoch 4/50\n",
      "300/300 [==============================] - 0s 106us/step - loss: 2.2699 - acc: 0.1667\n",
      "Epoch 5/50\n",
      "300/300 [==============================] - 0s 90us/step - loss: 2.2625 - acc: 0.1533\n",
      "Epoch 6/50\n",
      "300/300 [==============================] - 0s 123us/step - loss: 2.2522 - acc: 0.1700\n",
      "Epoch 7/50\n",
      "300/300 [==============================] - 0s 100us/step - loss: 2.2377 - acc: 0.1933\n",
      "Epoch 8/50\n",
      "300/300 [==============================] - 0s 96us/step - loss: 2.2312 - acc: 0.2300\n",
      "Epoch 9/50\n",
      "300/300 [==============================] - 0s 106us/step - loss: 2.2122 - acc: 0.2333\n",
      "Epoch 10/50\n",
      "300/300 [==============================] - 0s 93us/step - loss: 2.1990 - acc: 0.2267\n",
      "Epoch 11/50\n",
      "300/300 [==============================] - 0s 110us/step - loss: 2.1846 - acc: 0.2433\n",
      "Epoch 12/50\n",
      "300/300 [==============================] - 0s 106us/step - loss: 2.1685 - acc: 0.2867\n",
      "Epoch 13/50\n",
      "300/300 [==============================] - 0s 110us/step - loss: 2.1495 - acc: 0.2867\n",
      "Epoch 14/50\n",
      "300/300 [==============================] - 0s 106us/step - loss: 2.1319 - acc: 0.3167\n",
      "Epoch 15/50\n",
      "300/300 [==============================] - 0s 106us/step - loss: 2.1099 - acc: 0.3733\n",
      "Epoch 16/50\n",
      "300/300 [==============================] - 0s 103us/step - loss: 2.0899 - acc: 0.3367\n",
      "Epoch 17/50\n",
      "300/300 [==============================] - 0s 93us/step - loss: 2.0654 - acc: 0.4067\n",
      "Epoch 18/50\n",
      "300/300 [==============================] - 0s 106us/step - loss: 2.0424 - acc: 0.4200\n",
      "Epoch 19/50\n",
      "300/300 [==============================] - 0s 93us/step - loss: 2.0147 - acc: 0.4633\n",
      "Epoch 20/50\n",
      "300/300 [==============================] - 0s 96us/step - loss: 1.9878 - acc: 0.4867\n",
      "Epoch 21/50\n",
      "300/300 [==============================] - 0s 106us/step - loss: 1.9602 - acc: 0.5133\n",
      "Epoch 22/50\n",
      "300/300 [==============================] - 0s 90us/step - loss: 1.9308 - acc: 0.5267\n",
      "Epoch 23/50\n",
      "300/300 [==============================] - 0s 136us/step - loss: 1.8985 - acc: 0.5433\n",
      "Epoch 24/50\n",
      "300/300 [==============================] - 0s 93us/step - loss: 1.8678 - acc: 0.5833\n",
      "Epoch 25/50\n",
      "300/300 [==============================] - 0s 110us/step - loss: 1.8364 - acc: 0.5900\n",
      "Epoch 26/50\n",
      "300/300 [==============================] - 0s 103us/step - loss: 1.8021 - acc: 0.6200\n",
      "Epoch 27/50\n",
      "300/300 [==============================] - 0s 120us/step - loss: 1.7710 - acc: 0.5900\n",
      "Epoch 28/50\n",
      "300/300 [==============================] - 0s 130us/step - loss: 1.7353 - acc: 0.6267\n",
      "Epoch 29/50\n",
      "300/300 [==============================] - 0s 113us/step - loss: 1.7002 - acc: 0.6433\n",
      "Epoch 30/50\n",
      "300/300 [==============================] - 0s 136us/step - loss: 1.6627 - acc: 0.6667\n",
      "Epoch 31/50\n",
      "300/300 [==============================] - 0s 116us/step - loss: 1.6290 - acc: 0.6900\n",
      "Epoch 32/50\n",
      "300/300 [==============================] - 0s 130us/step - loss: 1.5922 - acc: 0.7000\n",
      "Epoch 33/50\n",
      "300/300 [==============================] - 0s 140us/step - loss: 1.5573 - acc: 0.7000\n",
      "Epoch 34/50\n",
      "300/300 [==============================] - 0s 130us/step - loss: 1.5222 - acc: 0.7100\n",
      "Epoch 35/50\n",
      "300/300 [==============================] - 0s 126us/step - loss: 1.4872 - acc: 0.7267\n",
      "Epoch 36/50\n",
      "300/300 [==============================] - 0s 110us/step - loss: 1.4495 - acc: 0.7367\n",
      "Epoch 37/50\n",
      "300/300 [==============================] - 0s 116us/step - loss: 1.4152 - acc: 0.7600\n",
      "Epoch 38/50\n",
      "300/300 [==============================] - 0s 113us/step - loss: 1.3800 - acc: 0.7567\n",
      "Epoch 39/50\n",
      "300/300 [==============================] - 0s 113us/step - loss: 1.3437 - acc: 0.7700\n",
      "Epoch 40/50\n",
      "300/300 [==============================] - 0s 176us/step - loss: 1.3097 - acc: 0.7967\n",
      "Epoch 41/50\n",
      "300/300 [==============================] - 0s 193us/step - loss: 1.2753 - acc: 0.8000\n",
      "Epoch 42/50\n",
      "300/300 [==============================] - 0s 146us/step - loss: 1.2407 - acc: 0.8100\n",
      "Epoch 43/50\n",
      "300/300 [==============================] - 0s 123us/step - loss: 1.2075 - acc: 0.8133\n",
      "Epoch 44/50\n",
      "300/300 [==============================] - 0s 116us/step - loss: 1.1720 - acc: 0.8300\n",
      "Epoch 45/50\n",
      "300/300 [==============================] - 0s 110us/step - loss: 1.1403 - acc: 0.8367\n",
      "Epoch 46/50\n",
      "300/300 [==============================] - 0s 113us/step - loss: 1.1092 - acc: 0.8433\n",
      "Epoch 47/50\n",
      "300/300 [==============================] - 0s 96us/step - loss: 1.0758 - acc: 0.8533\n",
      "Epoch 48/50\n",
      "300/300 [==============================] - 0s 106us/step - loss: 1.0427 - acc: 0.8600\n",
      "Epoch 49/50\n",
      "300/300 [==============================] - 0s 126us/step - loss: 1.0129 - acc: 0.8700\n",
      "Epoch 50/50\n",
      "300/300 [==============================] - 0s 110us/step - loss: 0.9839 - acc: 0.8733\n"
     ]
    }
   ],
   "source": [
    "# Fit the model\n",
    "history = model.fit(X, y, epochs=50, batch_size=10)"
   ]
  },
  {
   "cell_type": "code",
   "execution_count": 103,
   "metadata": {},
   "outputs": [
    {
     "data": {
      "image/png": "[encoded data removed]",
      "text/plain": [
       "<Figure size 432x288 with 1 Axes>"
      ]
     },
     "metadata": {
      "needs_background": "light"
     },
     "output_type": "display_data"
    }
   ],
   "source": [
    "\n",
    "import matplotlib.pyplot as plt\n",
    "acc = history.history[\"acc\"] # Training accuracy\n",
    "loss = history.history[\"loss\"] # Training loss\n",
    "epochs = range(1, len(acc) + 1) #plots every epoch, here 10\n",
    "\n",
    "plt.plot(epochs, acc, \"b\", label = \"Training acc\") # \"bo\" gives dot plot\n",
    "plt.title(\"Training accuracy\")\n",
    "plt.ylim((0,1))\n",
    "plt.legend()\n",
    "\n",
    "plt.show()\n",
    "\n"
   ]
  },
  {
   "cell_type": "code",
   "execution_count": 104,
   "metadata": {},
   "outputs": [
    {
     "name": "stdout",
     "output_type": "stream",
     "text": [
      "_________________________________________________________________\n",
      "Layer (type)                 Output Shape              Param #   \n",
      "=================================================================\n",
      "dense_71 (Dense)             (None, 20)                3020      \n",
      "_________________________________________________________________\n",
      "batch_normalization_7 (Batch (None, 20)                80        \n",
      "_________________________________________________________________\n",
      "activation_39 (Activation)   (None, 20)                0         \n",
      "_________________________________________________________________\n",
      "dense_72 (Dense)             (None, 30)                630       \n",
      "_________________________________________________________________\n",
      "activation_40 (Activation)   (None, 30)                0         \n",
      "_________________________________________________________________\n",
      "dense_73 (Dense)             (None, 10)                310       \n",
      "=================================================================\n",
      "Total params: 4,040\n",
      "Trainable params: 4,000\n",
      "Non-trainable params: 40\n",
      "_________________________________________________________________\n",
      "Epoch 1/50\n",
      "300/300 [==============================] - 1s 3ms/step - loss: 2.4772 - acc: 0.0867 \n",
      "Epoch 2/50\n",
      "300/300 [==============================] - 0s 126us/step - loss: 2.3546 - acc: 0.1133\n",
      "Epoch 3/50\n",
      "300/300 [==============================] - 0s 130us/step - loss: 2.3065 - acc: 0.1300\n",
      "Epoch 4/50\n",
      "300/300 [==============================] - 0s 133us/step - loss: 2.2815 - acc: 0.1500\n",
      "Epoch 5/50\n",
      "300/300 [==============================] - 0s 130us/step - loss: 2.2650 - acc: 0.1433\n",
      "Epoch 6/50\n",
      "300/300 [==============================] - 0s 126us/step - loss: 2.2585 - acc: 0.1667\n",
      "Epoch 7/50\n",
      "300/300 [==============================] - 0s 133us/step - loss: 2.2505 - acc: 0.1767\n",
      "Epoch 8/50\n",
      "300/300 [==============================] - 0s 126us/step - loss: 2.2371 - acc: 0.2000\n",
      "Epoch 9/50\n",
      "300/300 [==============================] - 0s 116us/step - loss: 2.2253 - acc: 0.2200\n",
      "Epoch 10/50\n",
      "300/300 [==============================] - 0s 116us/step - loss: 2.2152 - acc: 0.2367\n",
      "Epoch 11/50\n",
      "300/300 [==============================] - 0s 116us/step - loss: 2.2016 - acc: 0.1967\n",
      "Epoch 12/50\n",
      "300/300 [==============================] - 0s 116us/step - loss: 2.1944 - acc: 0.2367\n",
      "Epoch 13/50\n",
      "300/300 [==============================] - 0s 113us/step - loss: 2.1759 - acc: 0.2900\n",
      "Epoch 14/50\n",
      "300/300 [==============================] - 0s 123us/step - loss: 2.1544 - acc: 0.2767\n",
      "Epoch 15/50\n",
      "300/300 [==============================] - 0s 110us/step - loss: 2.1402 - acc: 0.2867\n",
      "Epoch 16/50\n",
      "300/300 [==============================] - 0s 106us/step - loss: 2.1249 - acc: 0.3300\n",
      "Epoch 17/50\n",
      "300/300 [==============================] - 0s 110us/step - loss: 2.1038 - acc: 0.3333\n",
      "Epoch 18/50\n",
      "300/300 [==============================] - 0s 116us/step - loss: 2.0864 - acc: 0.3600\n",
      "Epoch 19/50\n",
      "300/300 [==============================] - 0s 106us/step - loss: 2.0650 - acc: 0.3167\n",
      "Epoch 20/50\n",
      "300/300 [==============================] - 0s 113us/step - loss: 2.0417 - acc: 0.3733\n",
      "Epoch 21/50\n",
      "300/300 [==============================] - 0s 110us/step - loss: 2.0165 - acc: 0.4067\n",
      "Epoch 22/50\n",
      "300/300 [==============================] - 0s 110us/step - loss: 1.9858 - acc: 0.4233\n",
      "Epoch 23/50\n",
      "300/300 [==============================] - 0s 110us/step - loss: 1.9705 - acc: 0.4067\n",
      "Epoch 24/50\n",
      "300/300 [==============================] - 0s 110us/step - loss: 1.9320 - acc: 0.4867\n",
      "Epoch 25/50\n",
      "300/300 [==============================] - 0s 116us/step - loss: 1.9167 - acc: 0.4600\n",
      "Epoch 26/50\n",
      "300/300 [==============================] - 0s 123us/step - loss: 1.8787 - acc: 0.4967\n",
      "Epoch 27/50\n",
      "300/300 [==============================] - 0s 140us/step - loss: 1.8478 - acc: 0.5233\n",
      "Epoch 28/50\n",
      "300/300 [==============================] - 0s 146us/step - loss: 1.8101 - acc: 0.5200\n",
      "Epoch 29/50\n",
      "300/300 [==============================] - 0s 143us/step - loss: 1.7977 - acc: 0.5233\n",
      "Epoch 30/50\n",
      "300/300 [==============================] - 0s 126us/step - loss: 1.7533 - acc: 0.5767\n",
      "Epoch 31/50\n",
      "300/300 [==============================] - 0s 126us/step - loss: 1.7345 - acc: 0.5667\n",
      "Epoch 32/50\n",
      "300/300 [==============================] - 0s 123us/step - loss: 1.7036 - acc: 0.5500\n",
      "Epoch 33/50\n",
      "300/300 [==============================] - 0s 123us/step - loss: 1.6619 - acc: 0.6267\n",
      "Epoch 34/50\n",
      "300/300 [==============================] - 0s 123us/step - loss: 1.6504 - acc: 0.5633\n",
      "Epoch 35/50\n",
      "300/300 [==============================] - 0s 143us/step - loss: 1.6077 - acc: 0.6300\n",
      "Epoch 36/50\n",
      "300/300 [==============================] - 0s 143us/step - loss: 1.5892 - acc: 0.6433\n",
      "Epoch 37/50\n",
      "300/300 [==============================] - 0s 116us/step - loss: 1.5482 - acc: 0.6200\n",
      "Epoch 38/50\n",
      "300/300 [==============================] - 0s 113us/step - loss: 1.5106 - acc: 0.6233\n",
      "Epoch 39/50\n",
      "300/300 [==============================] - 0s 106us/step - loss: 1.4758 - acc: 0.6800\n",
      "Epoch 40/50\n",
      "300/300 [==============================] - 0s 113us/step - loss: 1.4644 - acc: 0.6467\n",
      "Epoch 41/50\n",
      "300/300 [==============================] - 0s 143us/step - loss: 1.4312 - acc: 0.6967\n",
      "Epoch 42/50\n",
      "300/300 [==============================] - 0s 133us/step - loss: 1.3881 - acc: 0.7200\n",
      "Epoch 43/50\n",
      "300/300 [==============================] - 0s 133us/step - loss: 1.3677 - acc: 0.7000\n",
      "Epoch 44/50\n",
      "300/300 [==============================] - 0s 133us/step - loss: 1.3349 - acc: 0.7300\n",
      "Epoch 45/50\n",
      "300/300 [==============================] - 0s 116us/step - loss: 1.2869 - acc: 0.7333\n",
      "Epoch 46/50\n",
      "300/300 [==============================] - 0s 116us/step - loss: 1.2632 - acc: 0.7500\n",
      "Epoch 47/50\n",
      "300/300 [==============================] - 0s 116us/step - loss: 1.2344 - acc: 0.7467\n",
      "Epoch 48/50\n",
      "300/300 [==============================] - 0s 120us/step - loss: 1.2047 - acc: 0.7700\n",
      "Epoch 49/50\n",
      "300/300 [==============================] - 0s 116us/step - loss: 1.1630 - acc: 0.7767\n",
      "Epoch 50/50\n",
      "300/300 [==============================] - 0s 110us/step - loss: 1.1648 - acc: 0.7800\n"
     ]
    }
   ],
   "source": [
    "model = Sequential()\n",
    "model.add(Dense(20, input_dim=150))\n",
    "model.add(BatchNormalization())\n",
    "model.add(Activation('sigmoid'))\n",
    "model.add(Dense(30))\n",
    "model.add(BatchNormalization())\n",
    "model.add(Activation('sigmoid'))\n",
    "model.add(Dense(10, activation='softmax'))\n",
    "model.compile(loss='categorical_crossentropy', optimizer='adam', metrics=['accuracy'])\n",
    "model.summary()\n",
    "# Fit the model\n",
    "history = model.fit(X, y, epochs=50, batch_size=10)"
   ]
  },
  {
   "cell_type": "code",
   "execution_count": 105,
   "metadata": {},
   "outputs": [
    {
     "data": {
      "image/png": "[encoded data removed]",
      "text/plain": [
       "<Figure size 432x288 with 1 Axes>"
      ]
     },
     "metadata": {
      "needs_background": "light"
     },
     "output_type": "display_data"
    }
   ],
   "source": [
    "\n",
    "import matplotlib.pyplot as plt\n",
    "acc = history.history[\"acc\"] # Training accuracy\n",
    "loss = history.history[\"loss\"] # Training loss\n",
    "epochs = range(1, len(acc) + 1) #plots every epoch, here 10\n",
    "\n",
    "plt.plot(epochs, acc, \"b\", label = \"Training acc\") # \"bo\" gives dot plot\n",
    "plt.title(\"Training accuracy\")\n",
    "plt.ylim((0,1))\n",
    "plt.legend()\n",
    "\n",
    "plt.show()\n"
   ]
  },
  {
   "cell_type": "code",
   "execution_count": null,
   "metadata": {},
   "outputs": [],
   "source": []
  }
 ],
 "metadata": {
  "kernelspec": {
   "display_name": "Python 3",
   "language": "python",
   "name": "python3"
  },
  "language_info": {
   "codemirror_mode": {
    "name": "ipython",
    "version": 3
   },
   "file_extension": ".py",
   "mimetype": "text/x-python",
   "name": "python",
   "nbconvert_exporter": "python",
   "pygments_lexer": "ipython3",
   "version": "3.6.8"
  }
 },
 "nbformat": 4,
 "nbformat_minor": 2
}
