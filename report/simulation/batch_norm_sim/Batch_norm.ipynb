{
 "cells": [
  {
   "cell_type": "code",
   "execution_count": 9,
   "metadata": {},
   "outputs": [],
   "source": [
    "from keras.models import Sequential\n",
    "from keras.layers import Dense, Activation,Flatten,BatchNormalization\n",
    "import numpy as np\n",
    "from keras.utils import to_categorical"
   ]
  },
  {
   "cell_type": "code",
   "execution_count": 22,
   "metadata": {},
   "outputs": [
    {
     "name": "stdout",
     "output_type": "stream",
     "text": [
      "(300, 150)\n",
      "(300, 10)\n"
     ]
    }
   ],
   "source": [
    "N, D, H1, H2, C = 300, 150, 20, 30, 10\n",
    "X = np.random.randn(N, 150)\n",
    "y = to_categorical(np.random.randint(C, size=(N,)))\n",
    "print(X.shape)\n",
    "print(y.shape)"
   ]
  },
  {
   "cell_type": "code",
   "execution_count": 34,
   "metadata": {},
   "outputs": [
    {
     "name": "stdout",
     "output_type": "stream",
     "text": [
      "_________________________________________________________________\n",
      "Layer (type)                 Output Shape              Param #   \n",
      "=================================================================\n",
      "dense_28 (Dense)             (None, 20)                3020      \n",
      "_________________________________________________________________\n",
      "activation_19 (Activation)   (None, 20)                0         \n",
      "_________________________________________________________________\n",
      "dense_29 (Dense)             (None, 30)                630       \n",
      "_________________________________________________________________\n",
      "activation_20 (Activation)   (None, 30)                0         \n",
      "_________________________________________________________________\n",
      "dense_30 (Dense)             (None, 10)                310       \n",
      "=================================================================\n",
      "Total params: 3,960\n",
      "Trainable params: 3,960\n",
      "Non-trainable params: 0\n",
      "_________________________________________________________________\n"
     ]
    }
   ],
   "source": [
    "model = Sequential()\n",
    "model.add(Dense(20, input_dim=150))\n",
    "model.add(Activation('sigmoid'))\n",
    "model.add(Dense(30))\n",
    "model.add(Activation('sigmoid'))\n",
    "model.add(Dense(10, activation='softmax'))\n",
    "model.compile(loss='categorical_crossentropy', optimizer='adam', metrics=['accuracy'])\n",
    "model.summary()"
   ]
  },
  {
   "cell_type": "code",
   "execution_count": 35,
   "metadata": {
    "scrolled": false
   },
   "outputs": [
    {
     "name": "stdout",
     "output_type": "stream",
     "text": [
      "Epoch 1/50\n",
      "300/300 [==============================] - 0s 1ms/step - loss: 2.4228 - acc: 0.0767 \n",
      "Epoch 2/50\n",
      "300/300 [==============================] - 0s 103us/step - loss: 2.3296 - acc: 0.1067\n",
      "Epoch 3/50\n",
      "300/300 [==============================] - 0s 83us/step - loss: 2.2907 - acc: 0.1467\n",
      "Epoch 4/50\n",
      "300/300 [==============================] - 0s 103us/step - loss: 2.2726 - acc: 0.1400\n",
      "Epoch 5/50\n",
      "300/300 [==============================] - 0s 90us/step - loss: 2.2579 - acc: 0.1700\n",
      "Epoch 6/50\n",
      "300/300 [==============================] - 0s 86us/step - loss: 2.2464 - acc: 0.1767\n",
      "Epoch 7/50\n",
      "300/300 [==============================] - 0s 96us/step - loss: 2.2366 - acc: 0.1800\n",
      "Epoch 8/50\n",
      "300/300 [==============================] - 0s 93us/step - loss: 2.2230 - acc: 0.2400\n",
      "Epoch 9/50\n",
      "300/300 [==============================] - 0s 96us/step - loss: 2.2083 - acc: 0.2367\n",
      "Epoch 10/50\n",
      "300/300 [==============================] - 0s 93us/step - loss: 2.1947 - acc: 0.2533\n",
      "Epoch 11/50\n",
      "300/300 [==============================] - 0s 93us/step - loss: 2.1801 - acc: 0.2833\n",
      "Epoch 12/50\n",
      "300/300 [==============================] - 0s 86us/step - loss: 2.1634 - acc: 0.2833\n",
      "Epoch 13/50\n",
      "300/300 [==============================] - 0s 73us/step - loss: 2.1469 - acc: 0.3433\n",
      "Epoch 14/50\n",
      "300/300 [==============================] - 0s 100us/step - loss: 2.1267 - acc: 0.3833\n",
      "Epoch 15/50\n",
      "300/300 [==============================] - 0s 90us/step - loss: 2.1097 - acc: 0.3667\n",
      "Epoch 16/50\n",
      "300/300 [==============================] - 0s 80us/step - loss: 2.0860 - acc: 0.3900\n",
      "Epoch 17/50\n",
      "300/300 [==============================] - 0s 90us/step - loss: 2.0643 - acc: 0.4333\n",
      "Epoch 18/50\n",
      "300/300 [==============================] - 0s 80us/step - loss: 2.0421 - acc: 0.4500\n",
      "Epoch 19/50\n",
      "300/300 [==============================] - 0s 96us/step - loss: 2.0183 - acc: 0.4567\n",
      "Epoch 20/50\n",
      "300/300 [==============================] - 0s 86us/step - loss: 1.9951 - acc: 0.4767\n",
      "Epoch 21/50\n",
      "300/300 [==============================] - 0s 93us/step - loss: 1.9669 - acc: 0.4900\n",
      "Epoch 22/50\n",
      "300/300 [==============================] - 0s 90us/step - loss: 1.9406 - acc: 0.5167\n",
      "Epoch 23/50\n",
      "300/300 [==============================] - 0s 93us/step - loss: 1.9131 - acc: 0.5067\n",
      "Epoch 24/50\n",
      "300/300 [==============================] - 0s 83us/step - loss: 1.8861 - acc: 0.5400\n",
      "Epoch 25/50\n",
      "300/300 [==============================] - 0s 76us/step - loss: 1.8562 - acc: 0.5300\n",
      "Epoch 26/50\n",
      "300/300 [==============================] - 0s 90us/step - loss: 1.8274 - acc: 0.5933\n",
      "Epoch 27/50\n",
      "300/300 [==============================] - 0s 90us/step - loss: 1.7956 - acc: 0.6167\n",
      "Epoch 28/50\n",
      "300/300 [==============================] - 0s 86us/step - loss: 1.7664 - acc: 0.6333\n",
      "Epoch 29/50\n",
      "300/300 [==============================] - 0s 80us/step - loss: 1.7369 - acc: 0.6400\n",
      "Epoch 30/50\n",
      "300/300 [==============================] - 0s 90us/step - loss: 1.7059 - acc: 0.6600\n",
      "Epoch 31/50\n",
      "300/300 [==============================] - 0s 96us/step - loss: 1.6721 - acc: 0.6700\n",
      "Epoch 32/50\n",
      "300/300 [==============================] - 0s 83us/step - loss: 1.6408 - acc: 0.6833\n",
      "Epoch 33/50\n",
      "300/300 [==============================] - 0s 70us/step - loss: 1.6082 - acc: 0.7133\n",
      "Epoch 34/50\n",
      "300/300 [==============================] - 0s 103us/step - loss: 1.5752 - acc: 0.7200\n",
      "Epoch 35/50\n",
      "300/300 [==============================] - 0s 83us/step - loss: 1.5414 - acc: 0.7300\n",
      "Epoch 36/50\n",
      "300/300 [==============================] - 0s 93us/step - loss: 1.5107 - acc: 0.7333\n",
      "Epoch 37/50\n",
      "300/300 [==============================] - 0s 70us/step - loss: 1.4790 - acc: 0.7567\n",
      "Epoch 38/50\n",
      "300/300 [==============================] - 0s 93us/step - loss: 1.4433 - acc: 0.7467\n",
      "Epoch 39/50\n",
      "300/300 [==============================] - 0s 90us/step - loss: 1.4115 - acc: 0.7600\n",
      "Epoch 40/50\n",
      "300/300 [==============================] - 0s 83us/step - loss: 1.3795 - acc: 0.7667\n",
      "Epoch 41/50\n",
      "300/300 [==============================] - 0s 90us/step - loss: 1.3461 - acc: 0.7833\n",
      "Epoch 42/50\n",
      "300/300 [==============================] - 0s 76us/step - loss: 1.3145 - acc: 0.7967\n",
      "Epoch 43/50\n",
      "300/300 [==============================] - 0s 113us/step - loss: 1.2823 - acc: 0.8033\n",
      "Epoch 44/50\n",
      "300/300 [==============================] - 0s 80us/step - loss: 1.2498 - acc: 0.8167\n",
      "Epoch 45/50\n",
      "300/300 [==============================] - 0s 90us/step - loss: 1.2187 - acc: 0.8133\n",
      "Epoch 46/50\n",
      "300/300 [==============================] - 0s 86us/step - loss: 1.1892 - acc: 0.8333\n",
      "Epoch 47/50\n",
      "300/300 [==============================] - 0s 86us/step - loss: 1.1566 - acc: 0.8300\n",
      "Epoch 48/50\n",
      "300/300 [==============================] - 0s 80us/step - loss: 1.1253 - acc: 0.8400\n",
      "Epoch 49/50\n",
      "300/300 [==============================] - 0s 76us/step - loss: 1.0943 - acc: 0.8533\n",
      "Epoch 50/50\n",
      "300/300 [==============================] - 0s 90us/step - loss: 1.0655 - acc: 0.8633\n"
     ]
    }
   ],
   "source": [
    "# Fit the model\n",
    "history = model.fit(X, y, epochs=50, batch_size=10)"
   ]
  },
  {
   "cell_type": "code",
   "execution_count": 36,
   "metadata": {},
   "outputs": [
    {
     "data": {
      "image/png": "[encoded data removed]",
      "text/plain": [
       "<Figure size 432x288 with 1 Axes>"
      ]
     },
     "metadata": {
      "needs_background": "light"
     },
     "output_type": "display_data"
    }
   ],
   "source": [
    "\n",
    "import matplotlib.pyplot as plt\n",
    "acc_fc = history.history[\"acc\"] # Training accuracy\n",
    "loss = history.history[\"loss\"] # Training loss\n",
    "epochs = range(1, len(acc_fc) + 1) #plots every epoch, here 10\n",
    "\n",
    "plt.plot(epochs, acc_fc, \"b\", label = \"Training acc\") # \"bo\" gives dot plot\n",
    "plt.title(\"Training accuracy\")\n",
    "plt.ylim((0,1))\n",
    "plt.legend()\n",
    "\n",
    "plt.show()\n",
    "\n"
   ]
  },
  {
   "cell_type": "code",
   "execution_count": 37,
   "metadata": {},
   "outputs": [
    {
     "name": "stdout",
     "output_type": "stream",
     "text": [
      "_________________________________________________________________\n",
      "Layer (type)                 Output Shape              Param #   \n",
      "=================================================================\n",
      "dense_31 (Dense)             (None, 20)                3020      \n",
      "_________________________________________________________________\n",
      "batch_normalization_7 (Batch (None, 20)                80        \n",
      "_________________________________________________________________\n",
      "activation_21 (Activation)   (None, 20)                0         \n",
      "_________________________________________________________________\n",
      "dense_32 (Dense)             (None, 30)                630       \n",
      "_________________________________________________________________\n",
      "batch_normalization_8 (Batch (None, 30)                120       \n",
      "_________________________________________________________________\n",
      "activation_22 (Activation)   (None, 30)                0         \n",
      "_________________________________________________________________\n",
      "dense_33 (Dense)             (None, 10)                310       \n",
      "=================================================================\n",
      "Total params: 4,160\n",
      "Trainable params: 4,060\n",
      "Non-trainable params: 100\n",
      "_________________________________________________________________\n",
      "Epoch 1/50\n",
      "300/300 [==============================] - 1s 3ms/step - loss: 2.4507 - acc: 0.1133 \n",
      "Epoch 2/50\n",
      "300/300 [==============================] - 0s 110us/step - loss: 2.3455 - acc: 0.1300\n",
      "Epoch 3/50\n",
      "300/300 [==============================] - 0s 113us/step - loss: 2.2895 - acc: 0.1633\n",
      "Epoch 4/50\n",
      "300/300 [==============================] - 0s 113us/step - loss: 2.2413 - acc: 0.1833\n",
      "Epoch 5/50\n",
      "300/300 [==============================] - 0s 116us/step - loss: 2.1964 - acc: 0.2167\n",
      "Epoch 6/50\n",
      "300/300 [==============================] - 0s 120us/step - loss: 2.1678 - acc: 0.2533\n",
      "Epoch 7/50\n",
      "300/300 [==============================] - 0s 120us/step - loss: 2.1438 - acc: 0.2633\n",
      "Epoch 8/50\n",
      "300/300 [==============================] - 0s 123us/step - loss: 2.0921 - acc: 0.3267\n",
      "Epoch 9/50\n",
      "300/300 [==============================] - 0s 106us/step - loss: 2.0552 - acc: 0.3700\n",
      "Epoch 10/50\n",
      "300/300 [==============================] - 0s 116us/step - loss: 2.0106 - acc: 0.3933\n",
      "Epoch 11/50\n",
      "300/300 [==============================] - 0s 130us/step - loss: 1.9771 - acc: 0.4100\n",
      "Epoch 12/50\n",
      "300/300 [==============================] - 0s 143us/step - loss: 1.9296 - acc: 0.4467\n",
      "Epoch 13/50\n",
      "300/300 [==============================] - 0s 136us/step - loss: 1.8840 - acc: 0.4767\n",
      "Epoch 14/50\n",
      "300/300 [==============================] - 0s 113us/step - loss: 1.8565 - acc: 0.4567\n",
      "Epoch 15/50\n",
      "300/300 [==============================] - 0s 130us/step - loss: 1.8083 - acc: 0.5233\n",
      "Epoch 16/50\n",
      "300/300 [==============================] - 0s 140us/step - loss: 1.7785 - acc: 0.5467\n",
      "Epoch 17/50\n",
      "300/300 [==============================] - 0s 133us/step - loss: 1.7191 - acc: 0.6100\n",
      "Epoch 18/50\n",
      "300/300 [==============================] - 0s 126us/step - loss: 1.6771 - acc: 0.5833\n",
      "Epoch 19/50\n",
      "300/300 [==============================] - 0s 143us/step - loss: 1.6359 - acc: 0.5967\n",
      "Epoch 20/50\n",
      "300/300 [==============================] - 0s 150us/step - loss: 1.6194 - acc: 0.6233\n",
      "Epoch 21/50\n",
      "300/300 [==============================] - 0s 140us/step - loss: 1.5413 - acc: 0.6767\n",
      "Epoch 22/50\n",
      "300/300 [==============================] - 0s 143us/step - loss: 1.5481 - acc: 0.6300\n",
      "Epoch 23/50\n",
      "300/300 [==============================] - 0s 141us/step - loss: 1.4937 - acc: 0.6700\n",
      "Epoch 24/50\n",
      "300/300 [==============================] - 0s 131us/step - loss: 1.4542 - acc: 0.6933\n",
      "Epoch 25/50\n",
      "300/300 [==============================] - 0s 123us/step - loss: 1.4230 - acc: 0.6833\n",
      "Epoch 26/50\n",
      "300/300 [==============================] - 0s 126us/step - loss: 1.3751 - acc: 0.6967\n",
      "Epoch 27/50\n",
      "300/300 [==============================] - 0s 123us/step - loss: 1.3463 - acc: 0.7433\n",
      "Epoch 28/50\n",
      "300/300 [==============================] - 0s 153us/step - loss: 1.3148 - acc: 0.7367\n",
      "Epoch 29/50\n",
      "300/300 [==============================] - 0s 150us/step - loss: 1.2700 - acc: 0.7700\n",
      "Epoch 30/50\n",
      "300/300 [==============================] - 0s 140us/step - loss: 1.2307 - acc: 0.7833\n",
      "Epoch 31/50\n",
      "300/300 [==============================] - 0s 106us/step - loss: 1.1824 - acc: 0.7967\n",
      "Epoch 32/50\n",
      "300/300 [==============================] - 0s 110us/step - loss: 1.1519 - acc: 0.8067\n",
      "Epoch 33/50\n",
      "300/300 [==============================] - 0s 126us/step - loss: 1.1536 - acc: 0.8133\n",
      "Epoch 34/50\n",
      "300/300 [==============================] - 0s 110us/step - loss: 1.0843 - acc: 0.8067\n",
      "Epoch 35/50\n",
      "300/300 [==============================] - 0s 120us/step - loss: 1.0904 - acc: 0.8067\n",
      "Epoch 36/50\n",
      "300/300 [==============================] - 0s 130us/step - loss: 1.0255 - acc: 0.8367\n",
      "Epoch 37/50\n",
      "300/300 [==============================] - 0s 123us/step - loss: 1.0220 - acc: 0.8067\n",
      "Epoch 38/50\n",
      "300/300 [==============================] - 0s 116us/step - loss: 0.9685 - acc: 0.8567\n",
      "Epoch 39/50\n",
      "300/300 [==============================] - 0s 133us/step - loss: 0.9145 - acc: 0.8633\n",
      "Epoch 40/50\n",
      "300/300 [==============================] - 0s 133us/step - loss: 0.9653 - acc: 0.8067\n",
      "Epoch 41/50\n",
      "300/300 [==============================] - 0s 136us/step - loss: 0.8782 - acc: 0.8933\n",
      "Epoch 42/50\n",
      "300/300 [==============================] - 0s 136us/step - loss: 0.8938 - acc: 0.8600\n",
      "Epoch 43/50\n",
      "300/300 [==============================] - 0s 163us/step - loss: 0.8374 - acc: 0.8667\n",
      "Epoch 44/50\n",
      "300/300 [==============================] - 0s 103us/step - loss: 0.7993 - acc: 0.9000\n",
      "Epoch 45/50\n",
      "300/300 [==============================] - 0s 113us/step - loss: 0.8093 - acc: 0.8833\n",
      "Epoch 46/50\n",
      "300/300 [==============================] - 0s 140us/step - loss: 0.7655 - acc: 0.9000\n",
      "Epoch 47/50\n",
      "300/300 [==============================] - 0s 126us/step - loss: 0.7333 - acc: 0.8867\n",
      "Epoch 48/50\n",
      "300/300 [==============================] - 0s 113us/step - loss: 0.7280 - acc: 0.9000\n",
      "Epoch 49/50\n",
      "300/300 [==============================] - 0s 120us/step - loss: 0.7170 - acc: 0.8900\n",
      "Epoch 50/50\n",
      "300/300 [==============================] - 0s 120us/step - loss: 0.6586 - acc: 0.9200\n"
     ]
    }
   ],
   "source": [
    "model = Sequential()\n",
    "model.add(Dense(20, input_dim=150))\n",
    "model.add(BatchNormalization())\n",
    "model.add(Activation('sigmoid'))\n",
    "model.add(Dense(30))\n",
    "model.add(BatchNormalization())\n",
    "model.add(Activation('sigmoid'))\n",
    "model.add(Dense(10, activation='softmax'))\n",
    "model.compile(loss='categorical_crossentropy', optimizer='adam', metrics=['accuracy'])\n",
    "model.summary()\n",
    "# Fit the model\n",
    "history = model.fit(X, y, epochs=50, batch_size=10)"
   ]
  },
  {
   "cell_type": "code",
   "execution_count": 38,
   "metadata": {},
   "outputs": [
    {
     "data": {
      "image/png": "[encoded data removed]",
      "text/plain": [
       "<Figure size 432x288 with 1 Axes>"
      ]
     },
     "metadata": {
      "needs_background": "light"
     },
     "output_type": "display_data"
    }
   ],
   "source": [
    "\n",
    "import matplotlib.pyplot as plt\n",
    "acc = history.history[\"acc\"] # Training accuracy\n",
    "epochs = range(1, len(acc) + 1) #plots every epoch, here 10\n",
    "plt.plot(epochs, acc, \"b\", label = \"Training acc_batch\") # \"bo\" gives dot plot\n",
    "plt.plot(epochs, acc_fc, \"r\", label = \"Training acc\") # \"bo\" gives dot plot\n",
    "plt.title(\"Training accuracy\")\n",
    "plt.ylim((0,1))\n",
    "plt.legend()\n",
    "plt.savefig('comparison.png')\n",
    "plt.show()\n"
   ]
  },
  {
   "cell_type": "code",
   "execution_count": null,
   "metadata": {},
   "outputs": [],
   "source": []
  }
 ],
 "metadata": {
  "kernelspec": {
   "display_name": "Python 3",
   "language": "python",
   "name": "python3"
  },
  "language_info": {
   "codemirror_mode": {
    "name": "ipython",
    "version": 3
   },
   "file_extension": ".py",
   "mimetype": "text/x-python",
   "name": "python",
   "nbconvert_exporter": "python",
   "pygments_lexer": "ipython3",
   "version": "3.6.8"
  }
 },
 "nbformat": 4,
 "nbformat_minor": 2
}
