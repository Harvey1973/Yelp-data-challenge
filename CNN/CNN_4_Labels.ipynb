{
 "cells": [
  {
   "cell_type": "code",
   "execution_count": 10,
   "metadata": {},
   "outputs": [],
   "source": [
    "import pandas as pd\n",
    "from keras.preprocessing.text import Tokenizer\n",
    "from keras.preprocessing.sequence import pad_sequences\n",
    "from keras.layers import Dense , Input , LSTM , Embedding, Dropout , Activation, GRU, Flatten,Conv2D,Conv1D\n",
    "from keras.layers import Bidirectional, GlobalMaxPool1D\n",
    "from keras.models import Model, Sequential\n",
    "from keras.layers import Convolution1D\n",
    "from keras import initializers, regularizers, constraints, optimizers, layers\n",
    "from keras.utils import to_categorical"
   ]
  },
  {
   "cell_type": "code",
   "execution_count": 56,
   "metadata": {},
   "outputs": [],
   "source": [
    "df = pd.read_csv(\"C:/Users/Harvey/Desktop/Yelp_data_set/restuarant_review_V4.csv\")"
   ]
  },
  {
   "cell_type": "code",
   "execution_count": 57,
   "metadata": {},
   "outputs": [
    {
     "data": {
      "text/html": [
       "<div>\n",
       "<style scoped>\n",
       "    .dataframe tbody tr th:only-of-type {\n",
       "        vertical-align: middle;\n",
       "    }\n",
       "\n",
       "    .dataframe tbody tr th {\n",
       "        vertical-align: top;\n",
       "    }\n",
       "\n",
       "    .dataframe thead th {\n",
       "        text-align: right;\n",
       "    }\n",
       "</style>\n",
       "<table border=\"1\" class=\"dataframe\">\n",
       "  <thead>\n",
       "    <tr style=\"text-align: right;\">\n",
       "      <th></th>\n",
       "      <th>Unnamed: 0</th>\n",
       "      <th>sentiment</th>\n",
       "      <th>stars</th>\n",
       "      <th>Processed_Reviews</th>\n",
       "    </tr>\n",
       "  </thead>\n",
       "  <tbody>\n",
       "    <tr>\n",
       "      <th>0</th>\n",
       "      <td>0</td>\n",
       "      <td>1</td>\n",
       "      <td>5</td>\n",
       "      <td>go lunch steak sandwich delicious caesar salad...</td>\n",
       "    </tr>\n",
       "    <tr>\n",
       "      <th>1</th>\n",
       "      <td>1</td>\n",
       "      <td>1</td>\n",
       "      <td>4</td>\n",
       "      <td>ill first admit excite go la tavolta food snob...</td>\n",
       "    </tr>\n",
       "    <tr>\n",
       "      <th>2</th>\n",
       "      <td>2</td>\n",
       "      <td>0</td>\n",
       "      <td>1</td>\n",
       "      <td>place go hill  clearly cut back staff food qua...</td>\n",
       "    </tr>\n",
       "    <tr>\n",
       "      <th>3</th>\n",
       "      <td>3</td>\n",
       "      <td>1</td>\n",
       "      <td>4</td>\n",
       "      <td>like walk back time every saturday morning sis...</td>\n",
       "    </tr>\n",
       "    <tr>\n",
       "      <th>4</th>\n",
       "      <td>4</td>\n",
       "      <td>0</td>\n",
       "      <td>1</td>\n",
       "      <td>walk around 4 friday afternoon sit table bar w...</td>\n",
       "    </tr>\n",
       "  </tbody>\n",
       "</table>\n",
       "</div>"
      ],
      "text/plain": [
       "   Unnamed: 0  sentiment  stars  \\\n",
       "0           0          1      5   \n",
       "1           1          1      4   \n",
       "2           2          0      1   \n",
       "3           3          1      4   \n",
       "4           4          0      1   \n",
       "\n",
       "                                   Processed_Reviews  \n",
       "0  go lunch steak sandwich delicious caesar salad...  \n",
       "1  ill first admit excite go la tavolta food snob...  \n",
       "2  place go hill  clearly cut back staff food qua...  \n",
       "3  like walk back time every saturday morning sis...  \n",
       "4  walk around 4 friday afternoon sit table bar w...  "
      ]
     },
     "execution_count": 57,
     "metadata": {},
     "output_type": "execute_result"
    }
   ],
   "source": [
    "df.head()"
   ]
  },
  {
   "cell_type": "code",
   "execution_count": 58,
   "metadata": {},
   "outputs": [],
   "source": [
    "df.drop(\"Unnamed: 0\",axis = 1,inplace = True)\n",
    "df.drop(\"sentiment\",axis = 1, inplace = True)"
   ]
  },
  {
   "cell_type": "code",
   "execution_count": 59,
   "metadata": {},
   "outputs": [
    {
     "data": {
      "text/html": [
       "<div>\n",
       "<style scoped>\n",
       "    .dataframe tbody tr th:only-of-type {\n",
       "        vertical-align: middle;\n",
       "    }\n",
       "\n",
       "    .dataframe tbody tr th {\n",
       "        vertical-align: top;\n",
       "    }\n",
       "\n",
       "    .dataframe thead th {\n",
       "        text-align: right;\n",
       "    }\n",
       "</style>\n",
       "<table border=\"1\" class=\"dataframe\">\n",
       "  <thead>\n",
       "    <tr style=\"text-align: right;\">\n",
       "      <th></th>\n",
       "      <th>stars</th>\n",
       "      <th>Processed_Reviews</th>\n",
       "    </tr>\n",
       "  </thead>\n",
       "  <tbody>\n",
       "    <tr>\n",
       "      <th>0</th>\n",
       "      <td>5</td>\n",
       "      <td>go lunch steak sandwich delicious caesar salad...</td>\n",
       "    </tr>\n",
       "    <tr>\n",
       "      <th>1</th>\n",
       "      <td>4</td>\n",
       "      <td>ill first admit excite go la tavolta food snob...</td>\n",
       "    </tr>\n",
       "    <tr>\n",
       "      <th>2</th>\n",
       "      <td>1</td>\n",
       "      <td>place go hill  clearly cut back staff food qua...</td>\n",
       "    </tr>\n",
       "    <tr>\n",
       "      <th>3</th>\n",
       "      <td>4</td>\n",
       "      <td>like walk back time every saturday morning sis...</td>\n",
       "    </tr>\n",
       "    <tr>\n",
       "      <th>4</th>\n",
       "      <td>1</td>\n",
       "      <td>walk around 4 friday afternoon sit table bar w...</td>\n",
       "    </tr>\n",
       "  </tbody>\n",
       "</table>\n",
       "</div>"
      ],
      "text/plain": [
       "   stars                                  Processed_Reviews\n",
       "0      5  go lunch steak sandwich delicious caesar salad...\n",
       "1      4  ill first admit excite go la tavolta food snob...\n",
       "2      1  place go hill  clearly cut back staff food qua...\n",
       "3      4  like walk back time every saturday morning sis...\n",
       "4      1  walk around 4 friday afternoon sit table bar w..."
      ]
     },
     "execution_count": 59,
     "metadata": {},
     "output_type": "execute_result"
    }
   ],
   "source": [
    "df.head()"
   ]
  },
  {
   "cell_type": "code",
   "execution_count": 101,
   "metadata": {},
   "outputs": [],
   "source": [
    "train = df.sample(frac = 0.8,random_state = 200)\n",
    "test = df.drop(train.index)"
   ]
  },
  {
   "cell_type": "code",
   "execution_count": 102,
   "metadata": {},
   "outputs": [
    {
     "data": {
      "text/plain": [
       "'ill first admit excite go la tavolta food snob group friends suggest go dinner look online menu nothing special seem overprice  im also big order pasta go alas outnumber thank goodness order sea bass special die cook perfectly season perfectly perfect portion say enough good things dish server ask seem proud dish say  doesnt chef incredible job   hubby get crab tortellini also love hear mmmm good around table waiter super nice even give us free desserts last people restaurant service slow place pack jug wine large group good conversation didnt seem bother anyone   order calamari fry zucchini appetizers leave mussels   sea bass special, highly recommend it. chicken parm crab tortellini also good big. chicken romano bite bland. house salads teeny.   make reservation still expect wait food. go large group people plan loud. go date unless fight feel like hear anything say.  ask sit side room available.'"
      ]
     },
     "execution_count": 102,
     "metadata": {},
     "output_type": "execute_result"
    }
   ],
   "source": [
    "train['Processed_Reviews'][1]"
   ]
  },
  {
   "cell_type": "code",
   "execution_count": 103,
   "metadata": {},
   "outputs": [
    {
     "name": "stdout",
     "output_type": "stream",
     "text": [
      "[0 1 2 3]\n"
     ]
    }
   ],
   "source": [
    "train.loc[train['stars'] == 4,'stars'] = 3\n",
    "train.loc[train['stars'] == 5,'stars'] = 4\n",
    "train.loc[:,'stars'] -= 1\n",
    "print(np.unique(train['stars']))"
   ]
  },
  {
   "cell_type": "code",
   "execution_count": 104,
   "metadata": {},
   "outputs": [
    {
     "data": {
      "text/plain": [
       "'ill first admit excite go la tavolta food snob group friends suggest go dinner look online menu nothing special seem overprice  im also big order pasta go alas outnumber thank goodness order sea bass special die cook perfectly season perfectly perfect portion say enough good things dish server ask seem proud dish say  doesnt chef incredible job   hubby get crab tortellini also love hear mmmm good around table waiter super nice even give us free desserts last people restaurant service slow place pack jug wine large group good conversation didnt seem bother anyone   order calamari fry zucchini appetizers leave mussels   sea bass special, highly recommend it. chicken parm crab tortellini also good big. chicken romano bite bland. house salads teeny.   make reservation still expect wait food. go large group people plan loud. go date unless fight feel like hear anything say.  ask sit side room available.'"
      ]
     },
     "execution_count": 104,
     "metadata": {},
     "output_type": "execute_result"
    }
   ],
   "source": [
    "train['Processed_Reviews'][1]"
   ]
  },
  {
   "cell_type": "code",
   "execution_count": 105,
   "metadata": {},
   "outputs": [
    {
     "name": "stdout",
     "output_type": "stream",
     "text": [
      "[0 1 2 3 4]\n",
      "(5,)\n",
      "[0 1 2 3 4]\n",
      "[[1. 0. 0. 0. 0.]\n",
      " [0. 1. 0. 0. 0.]\n",
      " [0. 0. 1. 0. 0.]\n",
      " [0. 0. 0. 1. 0.]\n",
      " [0. 0. 0. 0. 1.]]\n"
     ]
    }
   ],
   "source": [
    "import numpy as np\n",
    "test = np.array([1,2,3,4,5])\n",
    "print(test-1)\n",
    "print(test.shape)\n",
    "print(np.arange(test.shape[0]))\n",
    "test = test -1\n",
    "print(to_categorical(test,num_classes = 5))"
   ]
  },
  {
   "cell_type": "code",
   "execution_count": 106,
   "metadata": {},
   "outputs": [
    {
     "data": {
      "text/plain": [
       "'ill first admit excite go la tavolta food snob group friends suggest go dinner look online menu nothing special seem overprice  im also big order pasta go alas outnumber thank goodness order sea bass special die cook perfectly season perfectly perfect portion say enough good things dish server ask seem proud dish say  doesnt chef incredible job   hubby get crab tortellini also love hear mmmm good around table waiter super nice even give us free desserts last people restaurant service slow place pack jug wine large group good conversation didnt seem bother anyone   order calamari fry zucchini appetizers leave mussels   sea bass special, highly recommend it. chicken parm crab tortellini also good big. chicken romano bite bland. house salads teeny.   make reservation still expect wait food. go large group people plan loud. go date unless fight feel like hear anything say.  ask sit side room available.'"
      ]
     },
     "execution_count": 106,
     "metadata": {},
     "output_type": "execute_result"
    }
   ],
   "source": [
    "train['Processed_Reviews'][1]"
   ]
  },
  {
   "cell_type": "code",
   "execution_count": 107,
   "metadata": {},
   "outputs": [],
   "source": [
    "max_features = 6000\n",
    "tokenizer = Tokenizer(num_words=max_features)\n",
    "tokenizer.fit_on_texts(train['Processed_Reviews'])\n",
    "list_tokenized_train = tokenizer.texts_to_sequences(train['Processed_Reviews'])\n",
    "\n",
    "maxlen = 130\n",
    "X_t = pad_sequences(list_tokenized_train, maxlen=maxlen)\n",
    "y = to_categorical(train['stars'])\n"
   ]
  },
  {
   "cell_type": "code",
   "execution_count": 109,
   "metadata": {},
   "outputs": [
    {
     "name": "stdout",
     "output_type": "stream",
     "text": [
      "[[0. 0. 0. 1.]\n",
      " [0. 0. 1. 0.]\n",
      " [0. 0. 0. 1.]\n",
      " [0. 0. 1. 0.]\n",
      " [0. 0. 0. 1.]]\n",
      "152464    3\n",
      "176685    2\n",
      "272019    3\n",
      "66031     2\n",
      "448757    3\n",
      "Name: stars, dtype: int64\n"
     ]
    }
   ],
   "source": [
    "print(y[:5,])\n",
    "print(train['stars'][:5])"
   ]
  },
  {
   "cell_type": "code",
   "execution_count": 111,
   "metadata": {},
   "outputs": [
    {
     "name": "stdout",
     "output_type": "stream",
     "text": [
      "_________________________________________________________________\n",
      "Layer (type)                 Output Shape              Param #   \n",
      "=================================================================\n",
      "embedding_5 (Embedding)      (None, 130, 128)          768000    \n",
      "_________________________________________________________________\n",
      "conv1d_5 (Conv1D)            (None, 130, 50)           12850     \n",
      "_________________________________________________________________\n",
      "global_max_pooling1d_5 (Glob (None, 50)                0         \n",
      "_________________________________________________________________\n",
      "dense_5 (Dense)              (None, 4)                 204       \n",
      "=================================================================\n",
      "Total params: 781,054\n",
      "Trainable params: 781,054\n",
      "Non-trainable params: 0\n",
      "_________________________________________________________________\n"
     ]
    }
   ],
   "source": [
    "embed_size = 128\n",
    "model = Sequential()\n",
    "model.add(Embedding(max_features, embed_size,input_length = maxlen))\n",
    "model.add(Conv1D(filters = 50, kernel_size = 2, padding='same',activation = \"relu\"))\n",
    "model.add(GlobalMaxPool1D())\n",
    "#model.add(Flatten())\n",
    "model.add(Dense(4, activation=\"softmax\"))\n",
    "model.summary()\n",
    "model.compile(optimizer='adam',\n",
    "              loss='categorical_crossentropy',\n",
    "              metrics=['accuracy'])\n"
   ]
  },
  {
   "cell_type": "code",
   "execution_count": 112,
   "metadata": {},
   "outputs": [
    {
     "name": "stdout",
     "output_type": "stream",
     "text": [
      "Train on 328264 samples, validate on 82066 samples\n",
      "Epoch 1/3\n",
      "328264/328264 [==============================] - 159s 485us/step - loss: 0.6804 - acc: 0.6917 - val_loss: 0.6263 - val_acc: 0.7147\n",
      "Epoch 2/3\n",
      "328264/328264 [==============================] - 159s 484us/step - loss: 0.5885 - acc: 0.7346 - val_loss: 0.6230 - val_acc: 0.7162\n",
      "Epoch 3/3\n",
      "328264/328264 [==============================] - 160s 486us/step - loss: 0.5486 - acc: 0.7550 - val_loss: 0.6317 - val_acc: 0.7122\n"
     ]
    },
    {
     "data": {
      "text/plain": [
       "<keras.callbacks.History at 0x2868b6e4c88>"
      ]
     },
     "execution_count": 112,
     "metadata": {},
     "output_type": "execute_result"
    }
   ],
   "source": [
    "batch_size = 100\n",
    "epochs = 3\n",
    "model.fit(X_t,y, batch_size=batch_size, epochs=epochs, validation_split=0.2)"
   ]
  },
  {
   "cell_type": "code",
   "execution_count": null,
   "metadata": {},
   "outputs": [],
   "source": [
    "##################################################\n",
    "# Base line CNN using pretrained word vectors \n"
   ]
  }
 ],
 "metadata": {
  "kernelspec": {
   "display_name": "Python 3",
   "language": "python",
   "name": "python3"
  },
  "language_info": {
   "codemirror_mode": {
    "name": "ipython",
    "version": 3
   },
   "file_extension": ".py",
   "mimetype": "text/x-python",
   "name": "python",
   "nbconvert_exporter": "python",
   "pygments_lexer": "ipython3",
   "version": "3.6.8"
  }
 },
 "nbformat": 4,
 "nbformat_minor": 2
}
