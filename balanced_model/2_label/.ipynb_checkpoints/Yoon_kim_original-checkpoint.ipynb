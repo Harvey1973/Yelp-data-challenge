{
 "cells": [
  {
   "cell_type": "code",
   "execution_count": 53,
   "metadata": {},
   "outputs": [],
   "source": [
    "import pandas as pd\n",
    "import pickle\n",
    "from keras.preprocessing.text import Tokenizer\n",
    "from keras.preprocessing.sequence import pad_sequences\n",
    "from keras.layers import Dense , Input , LSTM , Embedding, Dropout , Activation, GRU, Flatten,Conv2D,Conv1D,MaxPooling1D, Dropout\n",
    "from keras.layers import concatenate\n",
    "from keras.layers import Bidirectional, GlobalMaxPool1D,BatchNormalization\n",
    "from keras.models import Model, Sequential\n",
    "from keras.layers import Convolution1D,GlobalMaxPooling1D\n",
    "from keras import initializers, regularizers, constraints, optimizers, layers\n",
    "from keras.utils import to_categorical\n",
    "import numpy as np\n",
    "import sys\n",
    "import os\n",
    "import tensorflow as tf\n",
    "import keras.backend.tensorflow_backend as ktf\n",
    "from keras.datasets import imdb"
   ]
  },
  {
   "cell_type": "code",
   "execution_count": null,
   "metadata": {},
   "outputs": [],
   "source": []
  },
  {
   "cell_type": "code",
   "execution_count": 54,
   "metadata": {},
   "outputs": [
    {
     "name": "stdout",
     "output_type": "stream",
     "text": [
      "(208160, 2)\n",
      "(50000, 2)\n"
     ]
    }
   ],
   "source": [
    "\n",
    "\n",
    "#######################################################################\n",
    "# Read in Data and tokenize , prepare training data and test data\n",
    "#df = pd.read_csv(\"C:/Users/Harvey/Desktop/Yelp_data_set/restuarant_review_5_label_unbalanced.csv\")\n",
    "#df = pd.read_csv(\"/home/ec2-user/Data/restuarant_review_5_label_unbalanced.csv\")\n",
    "#df = pd.read_csv(\"C:/Users/Harvey/Desktop/Yelp_data_set/restuarant_review_balanced.csv\"\n",
    "#df = pd.read_csv(\"/home/ec2-user/Data/restuarant_review_5_label_unbalanced.csv\")\n",
    "#df = pd.read_csv(\"/usr4/cs542sp/zzjiang/Data/restuarant_review_5_label_unbalanced.csv\")\n",
    "#train= pd.read_csv(\"/Users/harvey/Desktop/Data/restuarant_balanced_2_train.csv\",lineterminator='\\n')\n",
    "#test = pd.read_csv(\"/Users/harvey/Desktop/Data/restuarant_balanced_2_test.csv\",lineterminator='\\n')\n",
    "train= pd.read_csv(\"/home/ec2-user/Data/restuarant_balanced_2_train.csv\",lineterminator='\\n')\n",
    "test = pd.read_csv(\"/home/ec2-user/Data/restuarant_balanced_2_test.csv\",lineterminator='\\n')\n",
    "reviews_train = train['Processed_Reviews\\r']\n",
    "reviews_test = test['Processed_Reviews\\r']\n",
    "print(train.shape)\n",
    "print(test.shape)\n"
   ]
  },
  {
   "cell_type": "code",
   "execution_count": 55,
   "metadata": {},
   "outputs": [
    {
     "name": "stdout",
     "output_type": "stream",
     "text": [
      "(112175, 2)\n",
      "(95985, 2)\n",
      "(25000, 2)\n",
      "(25000, 2)\n"
     ]
    }
   ],
   "source": [
    "positive_train = train[train['stars'] == 1]\n",
    "negative_train = train[train['stars'] == 0]\n",
    "print(positive_train.shape)\n",
    "print(negative_train.shape)\n",
    "positive_test = test[test['stars'] == 1]\n",
    "negative_test = test[test['stars'] == 0]\n",
    "print(positive_test.shape)\n",
    "print(negative_test.shape)"
   ]
  },
  {
   "cell_type": "code",
   "execution_count": 56,
   "metadata": {},
   "outputs": [
    {
     "name": "stdout",
     "output_type": "stream",
     "text": [
      "208160\n",
      "50000\n",
      "258160\n",
      "0    place gone hill clearly cut back staff food qu...\n",
      "1    walked around friday afternoon sat table bar w...\n",
      "2    great lunch today staff helpful assisting sele...\n",
      "Name: Processed_Reviews\\r, dtype: object\n",
      "0    place gone hill clearly cut back staff food qu...\n",
      "1    walked around friday afternoon sat table bar w...\n",
      "2    great lunch today staff helpful assisting sele...\n",
      "Name: Processed_Reviews\\r, dtype: object\n"
     ]
    }
   ],
   "source": [
    "print(len(reviews_train))\n",
    "print(len(reviews_test))\n",
    "whole_data = pd.concat([reviews_train,reviews_test])\n",
    "print(len(whole_data))\n",
    "print(reviews_train[:3])\n",
    "print(whole_data[:3])"
   ]
  },
  {
   "cell_type": "code",
   "execution_count": 57,
   "metadata": {},
   "outputs": [],
   "source": [
    "maxlen = 100\n",
    "max_features = 15000\n",
    "tokenizer = Tokenizer(num_words=max_features)\n",
    "\n",
    "tokenizer.fit_on_texts(whole_data)\n",
    "list_tokenized_train = tokenizer.texts_to_sequences(reviews_train)\n",
    "x_train = pad_sequences(list_tokenized_train, maxlen=maxlen)\n",
    "y_train =train['stars']\n",
    "#####################\n",
    "# Test data\n",
    "#tokenizer.fit_on_texts(reviews_test)\n",
    "list_tokenized_test = tokenizer.texts_to_sequences(reviews_test)\n",
    "x_test = pad_sequences(list_tokenized_test, maxlen=maxlen)\n",
    "y_test = test['stars']"
   ]
  },
  {
   "cell_type": "code",
   "execution_count": 58,
   "metadata": {},
   "outputs": [
    {
     "name": "stdout",
     "output_type": "stream",
     "text": [
      "(208160, 100)\n",
      "(50000, 100)\n"
     ]
    }
   ],
   "source": [
    "print(x_train.shape)\n",
    "print(x_test.shape)"
   ]
  },
  {
   "cell_type": "code",
   "execution_count": null,
   "metadata": {},
   "outputs": [],
   "source": [
    "#################################\n",
    "# Previous dataset debug "
   ]
  },
  {
   "cell_type": "code",
   "execution_count": 13,
   "metadata": {},
   "outputs": [
    {
     "name": "stdout",
     "output_type": "stream",
     "text": [
      "(109668, 2)\n",
      "(96860, 2)\n",
      "(27507, 2)\n",
      "(24125, 2)\n"
     ]
    }
   ],
   "source": [
    "df = pd.read_csv(\"/home/ec2-user/Data/restuarant_review_balanced.csv\")\n",
    "train = df.sample(frac = 0.8,random_state = 200)\n",
    "test = df.drop(train.index)\n",
    "train.drop('stars',axis = 1,inplace = True)\n",
    "test.drop('stars',axis = 1,inplace = True)\n",
    "positive_train = train[train['sentiment'] == 1]\n",
    "negative_train = train[train['sentiment'] == 0]\n",
    "print(positive_train.shape)\n",
    "print(negative_train.shape)\n",
    "positive_test = test[test['sentiment'] == 1]\n",
    "negative_test = test[test['sentiment'] == 0]\n",
    "print(positive_test.shape)\n",
    "print(negative_test.shape)\n",
    "\n",
    "max_features = 6000\n",
    "tokenizer = Tokenizer(num_words=max_features)\n",
    "#tokenizer.fit_on_texts(train['Processed_Reviews'])\n",
    "tokenizer.fit_on_texts(df['Processed_Reviews'])\n",
    "list_tokenized_train = tokenizer.texts_to_sequences(train['Processed_Reviews'])\n",
    "word_index = tokenizer.word_index \n",
    "\n",
    "maxlen = 130\n",
    "x_train = pad_sequences(list_tokenized_train, maxlen=maxlen)\n",
    "y_train = train['sentiment']\n",
    "\n",
    "y_test = test[\"sentiment\"]\n",
    "list_sentences_test = test['Processed_Reviews']\n",
    "list_tokenized_test = tokenizer.texts_to_sequences(list_sentences_test)\n",
    "x_test = pad_sequences(list_tokenized_test, maxlen=maxlen)"
   ]
  },
  {
   "cell_type": "code",
   "execution_count": null,
   "metadata": {},
   "outputs": [],
   "source": [
    "# Previous\n",
    "################################################"
   ]
  },
  {
   "cell_type": "code",
   "execution_count": 2,
   "metadata": {},
   "outputs": [
    {
     "name": "stdout",
     "output_type": "stream",
     "text": [
      "Loading data...\n",
      "(25000,)\n",
      "(25000,)\n",
      "Pad sequences (samples x time)\n",
      "x_train shape: (25000, 100)\n",
      "x_test shape: (25000, 100)\n"
     ]
    }
   ],
   "source": [
    "##################################\n",
    "# IMDB DATA SET FOR DEBUG \n",
    "\n",
    "max_features = 20000\n",
    "# cut texts after this number of words\n",
    "# (among top max_features most common words)\n",
    "maxlen = 100\n",
    "batch_size = 32\n",
    "\n",
    "print('Loading data...')\n",
    "(x_train, y_train), (x_test, y_test) = imdb.load_data(num_words=max_features)\n",
    "print(x_train.shape)\n",
    "print(x_test.shape)\n",
    "\n",
    "print('Pad sequences (samples x time)')\n",
    "x_train = pad_sequences(x_train, maxlen=maxlen)\n",
    "x_test  = pad_sequences(x_test, maxlen=maxlen)\n",
    "print('x_train shape:', x_train.shape)\n",
    "print('x_test shape:', x_test.shape)\n",
    "y_train = np.array(y_train)\n",
    "y_test = np.array(y_test)"
   ]
  },
  {
   "cell_type": "code",
   "execution_count": 3,
   "metadata": {},
   "outputs": [],
   "source": [
    "imdb_dir = \"/home/ec2-user/aclImdb\"\n",
    "\n",
    "train_dir = os.path.join(imdb_dir, \"train\")\n",
    "\n",
    "labels = []\n",
    "texts = []\n",
    "\n",
    "for label_type in [\"neg\", \"pos\"]:\n",
    "    dir_name = os.path.join(train_dir, label_type)\n",
    "    for fname in os.listdir(dir_name):\n",
    "        if fname [-4:] == \".txt\":\n",
    "            #f = open(os.path.join(dir_name, fname))\n",
    "            # using code above gave: UnicodeDecodeError: 'charmap' codec can't decode byte 0x8d in position 194: character maps to <undefined>\n",
    "            # added: encoding='utf-8'\n",
    "            f = open(os.path.join(dir_name, fname), encoding='utf-8')\n",
    "            texts.append(f.read())\n",
    "            f.close()\n",
    "            if label_type == \"neg\":\n",
    "                labels.append(0)\n",
    "            else:\n",
    "                labels.append(1)"
   ]
  },
  {
   "cell_type": "code",
   "execution_count": 4,
   "metadata": {},
   "outputs": [
    {
     "name": "stdout",
     "output_type": "stream",
     "text": [
      "Found 88582 unique tokens.\n",
      "Shape of data tensor: (25000, 100)\n",
      "Shape of label tensor: (25000,)\n"
     ]
    }
   ],
   "source": [
    "\n",
    "maxlen = 100 # cuts off review after 100 words\n",
    "training_samples = 20000 # Trains on 200 samples\n",
    "validation_samples = 5000 # Validates o 10000 samples\n",
    "max_words = 10000 # Considers only the top 10000 words in the dataset\n",
    "\n",
    "tokenizer = Tokenizer(num_words=max_words)\n",
    "tokenizer.fit_on_texts(texts)\n",
    "sequences = tokenizer.texts_to_sequences(texts)\n",
    "word_index = tokenizer.word_index                   # Length: 88582\n",
    "print(\"Found %s unique tokens.\" % len(word_index))\n",
    "\n",
    "data = pad_sequences(sequences, maxlen=maxlen)\n",
    "\n",
    "labels = np.asarray(labels)\n",
    "print(\"Shape of data tensor:\", data.shape)\n",
    "print(\"Shape of label tensor:\", labels.shape)\n",
    "\n",
    "indices = np.arange(data.shape[0]) # Splits data into training and validation set, but shuffles is, since samples are ordered: \n",
    "# all negatives first, then all positive\n",
    "np.random.shuffle(indices)\n",
    "data = data[indices]\n",
    "labels = labels[indices]\n",
    "\n",
    "x_train = data[:training_samples] # (200, 100)\n",
    "y_train = labels[:training_samples] # shape (200,)\n",
    "x_test = data[training_samples:training_samples+validation_samples] # shape (10000, 100)\n",
    "y_test = labels[training_samples:training_samples+validation_samples] # shape (10000,)"
   ]
  },
  {
   "cell_type": "code",
   "execution_count": 5,
   "metadata": {},
   "outputs": [
    {
     "name": "stdout",
     "output_type": "stream",
     "text": [
      "(20000, 100)\n",
      "(20000,)\n",
      "(5000, 100)\n",
      "(5000,)\n"
     ]
    }
   ],
   "source": [
    "print(x_train.shape)\n",
    "print(y_train.shape)\n",
    "print(x_test.shape)\n",
    "print(y_test.shape)"
   ]
  },
  {
   "cell_type": "code",
   "execution_count": 150,
   "metadata": {},
   "outputs": [],
   "source": [
    "# IMDB\n",
    "###############################################################################################"
   ]
  },
  {
   "cell_type": "code",
   "execution_count": 59,
   "metadata": {},
   "outputs": [
    {
     "name": "stdout",
     "output_type": "stream",
     "text": [
      "Total 400000 word vectors in Glove 6B 100d.\n"
     ]
    }
   ],
   "source": [
    "\n",
    "#####################################################################\n",
    "# Using pretrained glove vector\n",
    "#####################################################################\n",
    "#GLOVE_DIR = \"/usr4/cs542sp/zzjiang/Data/\"\n",
    "GLOVE_DIR =\"/home/ec2-user/Data/\"\n",
    "#GLOVE_DIR = \"/Users/harvey/Desktop/Data/\"\n",
    "embeddings_index = {}\n",
    "f = open(os.path.join(GLOVE_DIR, 'glove.6B.100d.txt'),encoding = 'utf8')\n",
    "for line in f:\n",
    "    values = line.split()\n",
    "    word = values[0]\n",
    "    coefs = np.asarray(values[1:], dtype='float32')\n",
    "    embeddings_index[word] = coefs\n",
    "f.close()\n",
    "print('Total %s word vectors in Glove 6B 100d.' % len(embeddings_index))\n",
    "\n",
    "\n",
    "word_index = tokenizer.word_index\n",
    "embed_size = 100 \n",
    "embedding_matrix = np.random.random((len(word_index) + 1, embed_size))\n",
    "for word, i in word_index.items():\n",
    "    embedding_vector = embeddings_index.get(word)\n",
    "    if embedding_vector is not None:\n",
    "        # words not found in embedding index will be all-zeros.\n",
    "        embedding_matrix[i] = embedding_vector\n",
    "\n",
    "      \n"
   ]
  },
  {
   "cell_type": "code",
   "execution_count": null,
   "metadata": {},
   "outputs": [],
   "source": []
  },
  {
   "cell_type": "code",
   "execution_count": 60,
   "metadata": {},
   "outputs": [],
   "source": [
    "embedding_layer = Embedding(len(word_index) + 1,\n",
    "                            embed_size,\n",
    "                            weights=[embedding_matrix],\n",
    "                            input_length=maxlen,\n",
    "                            trainable=False)\n",
    "\n",
    "#Randomly initialized \n",
    "#embedding_layer = Embedding(len(word_index) + 1,\n",
    "#                            embed_size,\n",
    "#                            input_length=maxlen,\n",
    "#                            trainable=True)\n",
    "\n"
   ]
  },
  {
   "cell_type": "code",
   "execution_count": 63,
   "metadata": {},
   "outputs": [
    {
     "name": "stdout",
     "output_type": "stream",
     "text": [
      "__________________________________________________________________________________________________\n",
      "Layer (type)                    Output Shape         Param #     Connected to                     \n",
      "==================================================================================================\n",
      "input_13 (InputLayer)           (None, 100)          0                                            \n",
      "__________________________________________________________________________________________________\n",
      "embedding_6 (Embedding)         (None, 100, 100)     10215800    input_13[0][0]                   \n",
      "__________________________________________________________________________________________________\n",
      "conv1d_49 (Conv1D)              (None, 98, 16)       4816        embedding_6[1][0]                \n",
      "__________________________________________________________________________________________________\n",
      "conv1d_50 (Conv1D)              (None, 97, 16)       6416        embedding_6[1][0]                \n",
      "__________________________________________________________________________________________________\n",
      "conv1d_51 (Conv1D)              (None, 96, 16)       8016        embedding_6[1][0]                \n",
      "__________________________________________________________________________________________________\n",
      "conv1d_52 (Conv1D)              (None, 95, 16)       9616        embedding_6[1][0]                \n",
      "__________________________________________________________________________________________________\n",
      "activation_49 (Activation)      (None, 98, 16)       0           conv1d_49[0][0]                  \n",
      "__________________________________________________________________________________________________\n",
      "activation_50 (Activation)      (None, 97, 16)       0           conv1d_50[0][0]                  \n",
      "__________________________________________________________________________________________________\n",
      "activation_51 (Activation)      (None, 96, 16)       0           conv1d_51[0][0]                  \n",
      "__________________________________________________________________________________________________\n",
      "activation_52 (Activation)      (None, 95, 16)       0           conv1d_52[0][0]                  \n",
      "__________________________________________________________________________________________________\n",
      "global_max_pooling1d_49 (Global (None, 16)           0           activation_49[0][0]              \n",
      "__________________________________________________________________________________________________\n",
      "global_max_pooling1d_50 (Global (None, 16)           0           activation_50[0][0]              \n",
      "__________________________________________________________________________________________________\n",
      "global_max_pooling1d_51 (Global (None, 16)           0           activation_51[0][0]              \n",
      "__________________________________________________________________________________________________\n",
      "global_max_pooling1d_52 (Global (None, 16)           0           activation_52[0][0]              \n",
      "__________________________________________________________________________________________________\n",
      "concatenate_13 (Concatenate)    (None, 64)           0           global_max_pooling1d_49[0][0]    \n",
      "                                                                 global_max_pooling1d_50[0][0]    \n",
      "                                                                 global_max_pooling1d_51[0][0]    \n",
      "                                                                 global_max_pooling1d_52[0][0]    \n",
      "__________________________________________________________________________________________________\n",
      "dropout_13 (Dropout)            (None, 64)           0           concatenate_13[0][0]             \n",
      "__________________________________________________________________________________________________\n",
      "dense_23 (Dense)                (None, 32)           2080        dropout_13[0][0]                 \n",
      "__________________________________________________________________________________________________\n",
      "dense_24 (Dense)                (None, 1)            33          dense_23[0][0]                   \n",
      "==================================================================================================\n",
      "Total params: 10,246,777\n",
      "Trainable params: 30,977\n",
      "Non-trainable params: 10,215,800\n",
      "__________________________________________________________________________________________________\n"
     ]
    }
   ],
   "source": [
    "##############################\n",
    "# Orignal Yoon Kim \n",
    "##############################\n",
    "\n",
    "conv_filters = 4\n",
    "sequence_input = Input(shape=(maxlen,), dtype='int32')\n",
    "embedded_sequences = embedding_layer(sequence_input)\n",
    "\n",
    "# Specify each convolution layer and their kernel siz i.e. n-grams \n",
    "conv1_1 = Conv1D(filters=conv_filters, kernel_size=3)(embedded_sequences)\n",
    "actv1_1 = Activation('relu')(conv1_1)\n",
    "glmp1_1 = GlobalMaxPooling1D()(actv1_1)\n",
    "\n",
    "conv1_2 = Conv1D(filters=conv_filters, kernel_size=4)(embedded_sequences)\n",
    "actv1_2 = Activation('relu')(conv1_2)\n",
    "glmp1_2 = GlobalMaxPooling1D()(actv1_2)\n",
    "\n",
    "conv1_3 = Conv1D(filters=conv_filters, kernel_size=5)(embedded_sequences)\n",
    "actv1_3 = Activation('relu')(conv1_3)\n",
    "glmp1_3 = GlobalMaxPooling1D()(actv1_3)\n",
    "\n",
    "conv1_4 = Conv1D(filters=conv_filters, kernel_size=6)(embedded_sequences)\n",
    "actv1_4 = Activation('relu')(conv1_4)\n",
    "glmp1_4 = GlobalMaxPooling1D()(actv1_4)\n",
    "\n",
    "# Gather all convolution layers\n",
    "#cnct = concatenate([glmp1_1, glmp1_2, glmp1_3, glmp1_4], axis=1)\n",
    "#cnct = concatenate([glmp1_1, glmp1_2, glmp1_3], axis=1)\n",
    "cnct = concatenate([glmp1_1, glmp1_2], axis=1)\n",
    "drp1  = Dropout(0.1)(cnct)\n",
    "dns1  = Dense(4, activation='relu',kernel_regularizer=regularizers.l2(0.01))(drp1)\n",
    "#drp2  = Dropout(0.5)(dns1)\n",
    "#dns2 = \n",
    "out = Dense(1, activation='sigmoid')(dns1)\n",
    "\n",
    "\n",
    "model = Model(inputs=sequence_input, outputs=out)\n",
    "model.compile(optimizer='adam', loss='binary_crossentropy', metrics=['acc'])\n",
    "model.summary()\n",
    "###############################################################################"
   ]
  },
  {
   "cell_type": "code",
   "execution_count": null,
   "metadata": {},
   "outputs": [],
   "source": []
  },
  {
   "cell_type": "code",
   "execution_count": null,
   "metadata": {},
   "outputs": [
    {
     "name": "stdout",
     "output_type": "stream",
     "text": [
      "Train on 208160 samples, validate on 50000 samples\n",
      "Epoch 1/20\n",
      "208160/208160 [==============================] - 11s 55us/step - loss: 0.4906 - acc: 0.8545 - val_loss: 0.2798 - val_acc: 0.9096\n",
      "Epoch 2/20\n",
      "208160/208160 [==============================] - 8s 41us/step - loss: 0.2493 - acc: 0.9127 - val_loss: 0.2194 - val_acc: 0.9196\n",
      "Epoch 3/20\n",
      "208160/208160 [==============================] - 8s 40us/step - loss: 0.2091 - acc: 0.9225 - val_loss: 0.1997 - val_acc: 0.9246\n",
      "Epoch 4/20\n",
      "189440/208160 [==========================>...] - ETA: 0s - loss: 0.1919 - acc: 0.9284"
     ]
    }
   ],
   "source": [
    "batch_size = 512\n",
    "epochs = 20\n",
    "history = model.fit(x_train,y_train, batch_size=batch_size, epochs=epochs, validation_data = [x_test,y_test])"
   ]
  },
  {
   "cell_type": "code",
   "execution_count": 33,
   "metadata": {},
   "outputs": [
    {
     "name": "stdout",
     "output_type": "stream",
     "text": [
      "50000/50000 [==============================] - 1s 12us/step\n"
     ]
    }
   ],
   "source": [
    "score, acc = model.evaluate(x_test,y_test,batch_size = batch_size)"
   ]
  },
  {
   "cell_type": "code",
   "execution_count": 34,
   "metadata": {},
   "outputs": [
    {
     "name": "stdout",
     "output_type": "stream",
     "text": [
      "Test acc:  0.8997999998283386\n",
      "Test score:  0.2614873555469513\n"
     ]
    }
   ],
   "source": [
    "print(\"Test acc: \" , acc)\n",
    "print(\"Test score: \" , score)"
   ]
  },
  {
   "cell_type": "code",
   "execution_count": 35,
   "metadata": {},
   "outputs": [
    {
     "data": {
      "image/png": "[encoded data removed]",
      "text/plain": [
       "<Figure size 432x288 with 1 Axes>"
      ]
     },
     "metadata": {},
     "output_type": "display_data"
    },
    {
     "data": {
      "text/plain": [
       "<Figure size 432x288 with 0 Axes>"
      ]
     },
     "metadata": {},
     "output_type": "display_data"
    },
    {
     "data": {
      "image/png": "[encoded data removed]",
      "text/plain": [
       "<Figure size 432x288 with 1 Axes>"
      ]
     },
     "metadata": {},
     "output_type": "display_data"
    }
   ],
   "source": [
    "import matplotlib.pyplot as plt\n",
    "\n",
    "acc = history.history[\"acc\"] # Training accuracy\n",
    "val_acc = history.history[\"val_acc\"] # Validation accuracy\n",
    "loss = history.history[\"loss\"] # Training loss\n",
    "val_loss = history.history[\"val_loss\"] # Validation loss\n",
    "\n",
    "epochs = range(1, len(acc) + 1) #plots every epoch, here 10\n",
    "\n",
    "plt.plot(epochs, acc, \"bo\", label = \"Training acc\") # \"bo\" gives dot plot\n",
    "plt.plot(epochs, val_acc, \"b\", label = \"Validation acc\") # \"b\" gives line plot\n",
    "plt.title(\"Training and validation accuracy\")\n",
    "plt.ylim((0.5,1))\n",
    "plt.legend()\n",
    "\n",
    "plt.show()\n",
    "\n"
   ]
  },
  {
   "cell_type": "code",
   "execution_count": null,
   "metadata": {},
   "outputs": [],
   "source": [
    "plt.plot(epochs, loss, \"bo\", label = \"Training loss\")\n",
    "plt.plot(epochs, val_loss, \"b\", label = \"Validation loss\")\n",
    "plt.title(\"Training and validation loss\")\n",
    "plt.legend()\n",
    "\n",
    "plt.show()"
   ]
  },
  {
   "cell_type": "code",
   "execution_count": null,
   "metadata": {},
   "outputs": [],
   "source": []
  },
  {
   "cell_type": "code",
   "execution_count": 9,
   "metadata": {},
   "outputs": [
    {
     "name": "stdout",
     "output_type": "stream",
     "text": [
      "[[False]\n",
      " [False]\n",
      " [False]\n",
      " [ True]\n",
      " [False]\n",
      " [False]\n",
      " [False]\n",
      " [ True]\n",
      " [False]\n",
      " [ True]]\n",
      "(50000,)\n",
      "(50000, 1)\n",
      "accuracy :0.66412\n"
     ]
    }
   ],
   "source": []
  },
  {
   "cell_type": "code",
   "execution_count": null,
   "metadata": {},
   "outputs": [],
   "source": []
  },
  {
   "cell_type": "code",
   "execution_count": null,
   "metadata": {},
   "outputs": [],
   "source": [
    "#################################################################\n",
    "#Save train history as dict \n",
    "#################################################################\n",
    "\n",
    "with open(r\"/usr4/cs542sp/zzjiang/History/Yoon_kim_original\", \"wb\") as output_file:\n",
    "    pickle.dump(history.history, output_file)\n",
    "\n",
    "\n",
    "\n"
   ]
  },
  {
   "cell_type": "code",
   "execution_count": null,
   "metadata": {},
   "outputs": [],
   "source": []
  }
 ],
 "metadata": {
  "kernelspec": {
   "display_name": "Python 3",
   "language": "python",
   "name": "python3"
  },
  "language_info": {
   "codemirror_mode": {
    "name": "ipython",
    "version": 3
   },
   "file_extension": ".py",
   "mimetype": "text/x-python",
   "name": "python",
   "nbconvert_exporter": "python",
   "pygments_lexer": "ipython3",
   "version": "3.6.5"
  }
 },
 "nbformat": 4,
 "nbformat_minor": 2
}
