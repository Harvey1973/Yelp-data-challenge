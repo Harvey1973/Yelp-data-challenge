{
 "cells": [
  {
   "cell_type": "code",
   "execution_count": 26,
   "metadata": {},
   "outputs": [],
   "source": [
    "import pandas as pd\n",
    "import pickle\n",
    "from keras.preprocessing.text import Tokenizer\n",
    "from keras.preprocessing.sequence import pad_sequences\n",
    "from keras.layers import Dense , Input , LSTM , Embedding, Dropout , Activation, GRU, Flatten,Conv2D,Conv1D,MaxPooling1D, Dropout\n",
    "from keras.layers import concatenate\n",
    "from keras.layers import Bidirectional, GlobalMaxPool1D,BatchNormalization\n",
    "from keras.models import Model, Sequential\n",
    "from keras.layers import Convolution1D,GlobalMaxPooling1D\n",
    "from keras import initializers, regularizers, constraints, optimizers, layers\n",
    "from keras.optimizers import Adam\n",
    "from keras.utils import to_categorical\n",
    "import numpy as np\n",
    "import sys\n",
    "import os\n",
    "import tensorflow as tf\n",
    "import keras.backend.tensorflow_backend as ktf\n",
    "from keras.datasets import imdb"
   ]
  },
  {
   "cell_type": "code",
   "execution_count": 27,
   "metadata": {},
   "outputs": [
    {
     "name": "stdout",
     "output_type": "stream",
     "text": [
      "(208160, 2)\n",
      "(50000, 2)\n"
     ]
    }
   ],
   "source": [
    "#######################################################################\n",
    "# Read in Data and tokenize , prepare training data and test data\n",
    "#df = pd.read_csv(\"C:/Users/Harvey/Desktop/Yelp_data_set/restuarant_review_5_label_unbalanced.csv\")\n",
    "#df = pd.read_csv(\"/home/ec2-user/Data/restuarant_review_5_label_unbalanced.csv\")\n",
    "\n",
    "\n",
    "\n",
    "#df = pd.read_csv(\"C:/Users/Harvey/Desktop/Yelp_data_set/restuarant_review_balanced.csv\"\n",
    "#df = pd.read_csv(\"/home/ec2-user/Data/restuarant_review_5_label_unbalanced.csv\")\n",
    "#df = pd.read_csv(\"/usr4/cs542sp/zzjiang/Data/restuarant_review_5_label_unbalanced.csv\")\n",
    "#train= pd.read_csv(\"/Users/harvey/Desktop/Data/restuarant_balanced_2_train.csv\",lineterminator='\\n')\n",
    "#test = pd.read_csv(\"/Users/harvey/Desktop/Data/restuarant_balanced_2_test.csv\",lineterminator='\\n')\n",
    "\n",
    "train= pd.read_csv(\"/home/ec2-user/Data/restuarant_balanced_2_train.csv\",lineterminator='\\n')\n",
    "test = pd.read_csv(\"/home/ec2-user/Data/restuarant_balanced_2_test.csv\",lineterminator='\\n')\n",
    "reviews_train = train['Processed_Reviews\\r']\n",
    "reviews_test = test['Processed_Reviews\\r']\n",
    "print(train.shape)\n",
    "print(test.shape)\n"
   ]
  },
  {
   "cell_type": "code",
   "execution_count": 8,
   "metadata": {},
   "outputs": [],
   "source": [
    "maxlen = 100\n",
    "max_features = 15000\n",
    "tokenizer = Tokenizer(num_words=max_features)\n",
    "\n",
    "tokenizer.fit_on_texts(reviews_train)\n",
    "list_tokenized_train = tokenizer.texts_to_sequences(reviews_train)\n",
    "x_train = pad_sequences(list_tokenized_train, maxlen=maxlen)\n",
    "y_train =train['stars']\n",
    "#####################\n",
    "# Test data\n",
    "tokenizer.fit_on_texts(reviews_test)\n",
    "list_tokenized_test = tokenizer.texts_to_sequences(reviews_test)\n",
    "x_test = pad_sequences(list_tokenized_test, maxlen=maxlen)\n",
    "y_test = test['stars']\n",
    "###################################################"
   ]
  },
  {
   "cell_type": "code",
   "execution_count": 28,
   "metadata": {},
   "outputs": [
    {
     "name": "stdout",
     "output_type": "stream",
     "text": [
      "Loading data...\n",
      "(25000,)\n",
      "(25000,)\n",
      "Pad sequences (samples x time)\n",
      "x_train shape: (25000, 100)\n",
      "x_test shape: (25000, 100)\n",
      "Found 88582 unique tokens.\n",
      "Shape of data tensor: (25000, 100)\n",
      "Shape of label tensor: (25000,)\n"
     ]
    }
   ],
   "source": [
    "##################################\n",
    "# IMDB DATA SET FOR DEBUG \n",
    "\n",
    "max_features = 20000\n",
    "# cut texts after this number of words\n",
    "# (among top max_features most common words)\n",
    "maxlen = 100\n",
    "batch_size = 32\n",
    "\n",
    "print('Loading data...')\n",
    "(x_train, y_train), (x_test, y_test) = imdb.load_data(num_words=max_features)\n",
    "print(x_train.shape)\n",
    "print(x_test.shape)\n",
    "\n",
    "print('Pad sequences (samples x time)')\n",
    "x_train = pad_sequences(x_train, maxlen=maxlen)\n",
    "x_test  = pad_sequences(x_test, maxlen=maxlen)\n",
    "print('x_train shape:', x_train.shape)\n",
    "print('x_test shape:', x_test.shape)\n",
    "y_train = np.array(y_train)\n",
    "y_test = np.array(y_test)\n",
    "\n",
    "imdb_dir = \"/home/ec2-user/aclImdb\"\n",
    "\n",
    "train_dir = os.path.join(imdb_dir, \"train\")\n",
    "\n",
    "labels = []\n",
    "texts = []\n",
    "\n",
    "for label_type in [\"neg\", \"pos\"]:\n",
    "    dir_name = os.path.join(train_dir, label_type)\n",
    "    for fname in os.listdir(dir_name):\n",
    "        if fname [-4:] == \".txt\":\n",
    "            #f = open(os.path.join(dir_name, fname))\n",
    "            # using code above gave: UnicodeDecodeError: 'charmap' codec can't decode byte 0x8d in position 194: character maps to <undefined>\n",
    "            # added: encoding='utf-8'\n",
    "            f = open(os.path.join(dir_name, fname), encoding='utf-8')\n",
    "            texts.append(f.read())\n",
    "            f.close()\n",
    "            if label_type == \"neg\":\n",
    "                labels.append(0)\n",
    "            else:\n",
    "                labels.append(1)\n",
    "\n",
    "maxlen = 100 # cuts off review after 100 words\n",
    "training_samples = 20000 # Trains on 200 samples\n",
    "validation_samples = 5000 # Validates o 10000 samples\n",
    "max_words = 10000 # Considers only the top 10000 words in the dataset\n",
    "\n",
    "tokenizer = Tokenizer(num_words=max_words)\n",
    "tokenizer.fit_on_texts(texts)\n",
    "sequences = tokenizer.texts_to_sequences(texts)\n",
    "word_index = tokenizer.word_index                   # Length: 88582\n",
    "print(\"Found %s unique tokens.\" % len(word_index))\n",
    "\n",
    "data = pad_sequences(sequences, maxlen=maxlen)\n",
    "\n",
    "labels = np.asarray(labels)\n",
    "print(\"Shape of data tensor:\", data.shape)\n",
    "print(\"Shape of label tensor:\", labels.shape)\n",
    "\n",
    "indices = np.arange(data.shape[0]) # Splits data into training and validation set, but shuffles is, since samples are ordered: \n",
    "# all negatives first, then all positive\n",
    "np.random.shuffle(indices)\n",
    "data = data[indices]\n",
    "labels = labels[indices]\n",
    "\n",
    "x_train = data[:training_samples] # (200, 100)\n",
    "y_train = labels[:training_samples] # shape (200,)\n",
    "x_test = data[training_samples:training_samples+validation_samples] # shape (10000, 100)\n",
    "y_test = labels[training_samples:training_samples+validation_samples] # shape (10000,)\n",
    "# IMDB\n",
    "###############################################################################################"
   ]
  },
  {
   "cell_type": "code",
   "execution_count": 29,
   "metadata": {},
   "outputs": [
    {
     "name": "stdout",
     "output_type": "stream",
     "text": [
      "Total 400000 word vectors in Glove 6B 100d.\n"
     ]
    }
   ],
   "source": [
    "#####################################################################\n",
    "# Using pretrained glove vector\n",
    "#####################################################################\n",
    "#GLOVE_DIR = \"/usr4/cs542sp/zzjiang/Data/\"\n",
    "GLOVE_DIR =\"/home/ec2-user/Data/\"\n",
    "#GLOVE_DIR = \"/Users/harvey/Desktop/Data/\"\n",
    "embeddings_index = {}\n",
    "f = open(os.path.join(GLOVE_DIR, 'glove.6B.100d.txt'),encoding = 'utf8')\n",
    "for line in f:\n",
    "    values = line.split()\n",
    "    word = values[0]\n",
    "    coefs = np.asarray(values[1:], dtype='float32')\n",
    "    embeddings_index[word] = coefs\n",
    "f.close()\n",
    "print('Total %s word vectors in Glove 6B 100d.' % len(embeddings_index))\n",
    "\n",
    "\n",
    "word_index = tokenizer.word_index\n",
    "embed_size = 100 \n",
    "embedding_matrix = np.random.random((len(word_index) + 1, embed_size))\n",
    "for word, i in word_index.items():\n",
    "    embedding_vector = embeddings_index.get(word)\n",
    "    if embedding_vector is not None:\n",
    "        # words not found in embedding index will be all-zeros.\n",
    "        embedding_matrix[i] = embedding_vector\n",
    "\n",
    "      \n",
    "embedding_layer = Embedding(len(word_index) + 1,\n",
    "                            embed_size,\n",
    "                            weights=[embedding_matrix],\n",
    "                            input_length=maxlen,\n",
    "                            trainable=False)\n",
    "\n",
    "#Randomly initialized \n",
    "#embedding_layer = Embedding(len(word_index) + 1,\n",
    "#                            embed_size,\n",
    "#                            input_length=maxlen,\n",
    "#                            trainable=False)\n",
    "\n",
    "\n"
   ]
  },
  {
   "cell_type": "code",
   "execution_count": 34,
   "metadata": {},
   "outputs": [
    {
     "name": "stdout",
     "output_type": "stream",
     "text": [
      "__________________________________________________________________________________________________\n",
      "Layer (type)                    Output Shape         Param #     Connected to                     \n",
      "==================================================================================================\n",
      "input_11 (InputLayer)           (None, 100)          0                                            \n",
      "__________________________________________________________________________________________________\n",
      "embedding_4 (Embedding)         (None, 100, 100)     8858300     input_11[0][0]                   \n",
      "__________________________________________________________________________________________________\n",
      "conv1d_63 (Conv1D)              (None, 99, 128)      25728       embedding_4[2][0]                \n",
      "__________________________________________________________________________________________________\n",
      "conv1d_64 (Conv1D)              (None, 98, 128)      38528       embedding_4[2][0]                \n",
      "__________________________________________________________________________________________________\n",
      "conv1d_65 (Conv1D)              (None, 97, 128)      51328       embedding_4[2][0]                \n",
      "__________________________________________________________________________________________________\n",
      "conv1d_67 (Conv1D)              (None, 99, 128)      25728       embedding_4[2][0]                \n",
      "__________________________________________________________________________________________________\n",
      "batch_normalization_77 (BatchNo (None, 99, 128)      512         conv1d_63[0][0]                  \n",
      "__________________________________________________________________________________________________\n",
      "batch_normalization_78 (BatchNo (None, 98, 128)      512         conv1d_64[0][0]                  \n",
      "__________________________________________________________________________________________________\n",
      "batch_normalization_79 (BatchNo (None, 97, 128)      512         conv1d_65[0][0]                  \n",
      "__________________________________________________________________________________________________\n",
      "batch_normalization_80 (BatchNo (None, 99, 128)      512         conv1d_67[0][0]                  \n",
      "__________________________________________________________________________________________________\n",
      "activation_57 (Activation)      (None, 99, 128)      0           batch_normalization_77[0][0]     \n",
      "__________________________________________________________________________________________________\n",
      "activation_58 (Activation)      (None, 98, 128)      0           batch_normalization_78[0][0]     \n",
      "__________________________________________________________________________________________________\n",
      "activation_59 (Activation)      (None, 97, 128)      0           batch_normalization_79[0][0]     \n",
      "__________________________________________________________________________________________________\n",
      "activation_60 (Activation)      (None, 99, 128)      0           batch_normalization_80[0][0]     \n",
      "__________________________________________________________________________________________________\n",
      "max_pooling1d_41 (MaxPooling1D) (None, 24, 128)      0           activation_57[0][0]              \n",
      "__________________________________________________________________________________________________\n",
      "max_pooling1d_42 (MaxPooling1D) (None, 24, 128)      0           activation_58[0][0]              \n",
      "__________________________________________________________________________________________________\n",
      "max_pooling1d_43 (MaxPooling1D) (None, 24, 128)      0           activation_59[0][0]              \n",
      "__________________________________________________________________________________________________\n",
      "max_pooling1d_44 (MaxPooling1D) (None, 24, 128)      0           activation_60[0][0]              \n",
      "__________________________________________________________________________________________________\n",
      "concatenate_11 (Concatenate)    (None, 96, 128)      0           max_pooling1d_41[0][0]           \n",
      "                                                                 max_pooling1d_42[0][0]           \n",
      "                                                                 max_pooling1d_43[0][0]           \n",
      "                                                                 max_pooling1d_44[0][0]           \n",
      "__________________________________________________________________________________________________\n",
      "dropout_31 (Dropout)            (None, 96, 128)      0           concatenate_11[0][0]             \n",
      "__________________________________________________________________________________________________\n",
      "dense_31 (Dense)                (None, 96, 64)       8256        dropout_31[0][0]                 \n",
      "__________________________________________________________________________________________________\n",
      "batch_normalization_81 (BatchNo (None, 96, 64)       256         dense_31[0][0]                   \n",
      "__________________________________________________________________________________________________\n",
      "dropout_32 (Dropout)            (None, 96, 64)       0           batch_normalization_81[0][0]     \n",
      "__________________________________________________________________________________________________\n",
      "dense_32 (Dense)                (None, 96, 32)       2080        dropout_32[0][0]                 \n",
      "__________________________________________________________________________________________________\n",
      "batch_normalization_82 (BatchNo (None, 96, 32)       128         dense_32[0][0]                   \n",
      "__________________________________________________________________________________________________\n",
      "dropout_33 (Dropout)            (None, 96, 32)       0           batch_normalization_82[0][0]     \n",
      "__________________________________________________________________________________________________\n",
      "flatten_11 (Flatten)            (None, 3072)         0           dropout_33[0][0]                 \n",
      "__________________________________________________________________________________________________\n",
      "dense_33 (Dense)                (None, 1)            3073        flatten_11[0][0]                 \n",
      "==================================================================================================\n",
      "Total params: 9,015,453\n",
      "Trainable params: 155,937\n",
      "Non-trainable params: 8,859,516\n",
      "__________________________________________________________________________________________________\n"
     ]
    }
   ],
   "source": [
    "#############################################\n",
    "# Original yoon kim with batch norm and drop out0\n",
    "#############################################\n",
    "conv_filters = 128\n",
    "drop_out_rate = 0.2 + np.random.rand()*0.25\n",
    "sequence_input = Input(shape=(maxlen,), dtype='int32')\n",
    "embedded_sequences = embedding_layer(sequence_input)\n",
    "\n",
    "# Specify each convolution layer and their kernel siz i.e. n-grams \n",
    "conv1_1 = Conv1D(filters=conv_filters, kernel_size=2,kernel_regularizer=regularizers.l2(0.01))(embedded_sequences)\n",
    "#conv1_1 = Conv1D(filters=conv_filters, kernel_size=2)(embedded_sequences)\n",
    "btch1_1 = BatchNormalization()(conv1_1)\n",
    "actv1_1 = Activation('relu')(btch1_1)\n",
    "#conv1_2 = Conv1D(filters=conv_filters, kernel_size=2,kernel_regularizer=regularizers.l2(0.1))(actv1_1)\n",
    "#btch1_2 = BatchNormalization()(conv1_2)\n",
    "#actv1_2 = Activation('relu')(btch1_2)\n",
    "glmp1_1 = MaxPooling1D(pool_size = 4)(actv1_1)\n",
    "\n",
    "conv2_1 = Conv1D(filters=conv_filters, kernel_size=3,kernel_regularizer=regularizers.l2(0.01))(embedded_sequences)\n",
    "#conv2_1 = Conv1D(filters=conv_filters, kernel_size=2)(embedded_sequences)\n",
    "btch2_1 = BatchNormalization()(conv2_1)\n",
    "actv2_1 = Activation('relu')(btch2_1)\n",
    "#conv2_2 = Conv1D(filters=conv_filters, kernel_size=3,kernel_regularizer=regularizers.l2(0.1))(actv2_1)\n",
    "#btch2_2 = BatchNormalization()(conv2_2)\n",
    "#actv2_2 = Activation('relu')(btch2_2)\n",
    "glmp2_1 = MaxPooling1D(pool_size = 4)(actv2_1)\n",
    "\n",
    "conv3_1 = Conv1D(filters=conv_filters, kernel_size=4,kernel_regularizer=regularizers.l2(0.01))(embedded_sequences)\n",
    "#conv3_1 = Conv1D(filters=conv_filters, kernel_size=2)(embedded_sequences)\n",
    "btch3_1 = BatchNormalization()(conv3_1)\n",
    "actv3_1 = Activation('relu')(btch3_1)\n",
    "#conv3_2 = Conv1D(filters=conv_filters, kernel_size=4,kernel_regularizer=regularizers.l2(0.1))(actv3_1)\n",
    "#btch3_2 = BatchNormalization()(conv3_2)\n",
    "#actv3_2 = Activation('relu')(btch3_2)\n",
    "glmp3_1 = MaxPooling1D(pool_size = 4)(actv3_1)\n",
    "\n",
    "conv4_1 = Conv1D(filters=conv_filters, kernel_size=5,kernel_regularizer=regularizers.l2(0.01))(embedded_sequences)\n",
    "conv4_1 = Conv1D(filters=conv_filters, kernel_size=2)(embedded_sequences)\n",
    "btch4_1 = BatchNormalization()(conv4_1)\n",
    "actv4_1 = Activation('relu')(btch4_1)\n",
    "#conv4_2 = Conv1D(filters=conv_filters, kernel_size=5,kernel_regularizer=regularizers.l2(0.1))(actv4_1)\n",
    "#btch4_2 = BatchNormalization()(conv4_2)\n",
    "#actv4_2 = Activation('relu')(btch4_2)\n",
    "glmp4_1 = MaxPooling1D(pool_size = 4)(actv4_1)\n",
    "\n",
    "# Gather all convolution layers\n",
    "cnct = concatenate([glmp1_1, glmp2_1, glmp3_1, glmp4_1], axis=1)\n",
    "drp = Dropout(drop_out_rate)(cnct)\n",
    "\n",
    "dns1  = Dense(64, activation='relu',kernel_regularizer=regularizers.l2(0.1))(drp)\n",
    "btch1 = BatchNormalization()(dns1)\n",
    "drp1  = Dropout(drop_out_rate)(btch1)\n",
    "dns2  = Dense(32, activation='relu',kernel_regularizer=regularizers.l2(0.1))(drp1)\n",
    "btch2 = BatchNormalization()(dns2)\n",
    "drp2 = Dropout(drop_out_rate)(btch2)\n",
    "flat = Flatten()(drp2)\n",
    "out = Dense(1, activation='sigmoid')(flat)\n",
    "\n",
    "adam = Adam(lr=1e-4, beta_1=0.9, beta_2=0.999, epsilon=1e-08, decay=0.0)\n",
    "model = Model(inputs = sequence_input, outputs=out)\n",
    "model.compile(optimizer = adam, loss='binary_crossentropy', metrics=['acc'])\n",
    "model.summary()\n",
    "\n"
   ]
  },
  {
   "cell_type": "code",
   "execution_count": 35,
   "metadata": {},
   "outputs": [
    {
     "name": "stdout",
     "output_type": "stream",
     "text": [
      "Train on 20000 samples, validate on 5000 samples\n",
      "Epoch 1/25\n",
      "20000/20000 [==============================] - 12s 592us/step - loss: 16.6393 - acc: 0.5130 - val_loss: 16.0351 - val_acc: 0.5262\n",
      "Epoch 2/25\n",
      "20000/20000 [==============================] - 4s 205us/step - loss: 15.7728 - acc: 0.5203 - val_loss: 15.2079 - val_acc: 0.5430\n",
      "Epoch 3/25\n",
      "20000/20000 [==============================] - 4s 205us/step - loss: 14.9364 - acc: 0.5410 - val_loss: 14.4209 - val_acc: 0.5588\n",
      "Epoch 4/25\n",
      "20000/20000 [==============================] - 4s 205us/step - loss: 14.1489 - acc: 0.5604 - val_loss: 13.6773 - val_acc: 0.5732\n",
      "Epoch 5/25\n",
      "20000/20000 [==============================] - 4s 205us/step - loss: 13.4050 - acc: 0.5777 - val_loss: 12.9769 - val_acc: 0.5810\n",
      "Epoch 6/25\n",
      "20000/20000 [==============================] - 4s 205us/step - loss: 12.6961 - acc: 0.5993 - val_loss: 12.3298 - val_acc: 0.5680\n",
      "Epoch 7/25\n",
      "20000/20000 [==============================] - 4s 206us/step - loss: 12.0228 - acc: 0.6121 - val_loss: 11.7037 - val_acc: 0.5690\n",
      "Epoch 8/25\n",
      "20000/20000 [==============================] - 4s 205us/step - loss: 11.3783 - acc: 0.6313 - val_loss: 11.1230 - val_acc: 0.5646\n",
      "Epoch 9/25\n",
      "20000/20000 [==============================] - 4s 205us/step - loss: 10.7635 - acc: 0.6530 - val_loss: 10.5424 - val_acc: 0.5714\n",
      "Epoch 10/25\n",
      "20000/20000 [==============================] - 4s 205us/step - loss: 10.1753 - acc: 0.6721 - val_loss: 9.9866 - val_acc: 0.5824\n",
      "Epoch 11/25\n",
      "20000/20000 [==============================] - 4s 205us/step - loss: 9.6186 - acc: 0.6877 - val_loss: 9.3938 - val_acc: 0.6290\n",
      "Epoch 12/25\n",
      "20000/20000 [==============================] - 4s 205us/step - loss: 9.0938 - acc: 0.6975 - val_loss: 8.8923 - val_acc: 0.6370\n",
      "Epoch 13/25\n",
      "20000/20000 [==============================] - 4s 206us/step - loss: 8.5962 - acc: 0.7116 - val_loss: 8.4056 - val_acc: 0.6536\n",
      "Epoch 14/25\n",
      "20000/20000 [==============================] - 4s 205us/step - loss: 8.1183 - acc: 0.7255 - val_loss: 7.9407 - val_acc: 0.6700\n",
      "Epoch 15/25\n",
      "20000/20000 [==============================] - 4s 206us/step - loss: 7.6678 - acc: 0.7319 - val_loss: 7.4887 - val_acc: 0.6902\n",
      "Epoch 16/25\n",
      "20000/20000 [==============================] - 4s 206us/step - loss: 7.2437 - acc: 0.7426 - val_loss: 7.0961 - val_acc: 0.6878\n",
      "Epoch 17/25\n",
      "20000/20000 [==============================] - 4s 205us/step - loss: 6.8443 - acc: 0.7512 - val_loss: 6.6778 - val_acc: 0.7108\n",
      "Epoch 18/25\n",
      "20000/20000 [==============================] - 4s 207us/step - loss: 6.4555 - acc: 0.7575 - val_loss: 6.2924 - val_acc: 0.7318\n",
      "Epoch 19/25\n",
      "20000/20000 [==============================] - 4s 206us/step - loss: 6.0994 - acc: 0.7624 - val_loss: 5.9293 - val_acc: 0.7498\n",
      "Epoch 20/25\n",
      "20000/20000 [==============================] - 4s 208us/step - loss: 5.7572 - acc: 0.7690 - val_loss: 5.5847 - val_acc: 0.7702\n",
      "Epoch 21/25\n",
      "20000/20000 [==============================] - 4s 207us/step - loss: 5.4349 - acc: 0.7762 - val_loss: 5.2990 - val_acc: 0.7514\n",
      "Epoch 22/25\n",
      "20000/20000 [==============================] - 4s 207us/step - loss: 5.1335 - acc: 0.7747 - val_loss: 5.0061 - val_acc: 0.7572\n",
      "Epoch 23/25\n",
      "20000/20000 [==============================] - 4s 208us/step - loss: 4.8462 - acc: 0.7833 - val_loss: 4.7334 - val_acc: 0.7594\n",
      "Epoch 24/25\n",
      "20000/20000 [==============================] - 4s 207us/step - loss: 4.5703 - acc: 0.7878 - val_loss: 4.4620 - val_acc: 0.7662\n",
      "Epoch 25/25\n",
      "20000/20000 [==============================] - 4s 207us/step - loss: 4.3118 - acc: 0.7940 - val_loss: 4.2152 - val_acc: 0.7720\n"
     ]
    }
   ],
   "source": [
    "batch_size = 512\n",
    "epochs = 25\n",
    "history = model.fit(x_train,y_train, batch_size=batch_size, epochs=epochs, validation_data = [x_test,y_test])"
   ]
  },
  {
   "cell_type": "code",
   "execution_count": 36,
   "metadata": {},
   "outputs": [
    {
     "name": "stdout",
     "output_type": "stream",
     "text": [
      "5000/5000 [==============================] - 0s 68us/step\n"
     ]
    }
   ],
   "source": [
    "score, acc = model.evaluate(x_test,y_test,batch_size = batch_size)"
   ]
  },
  {
   "cell_type": "code",
   "execution_count": 37,
   "metadata": {},
   "outputs": [
    {
     "name": "stdout",
     "output_type": "stream",
     "text": [
      "Test acc:  0.771999998474121\n",
      "Test score:  4.215243752288818\n"
     ]
    }
   ],
   "source": [
    "print(\"Test acc: \" , acc)\n",
    "print(\"Test score: \" , score)"
   ]
  },
  {
   "cell_type": "code",
   "execution_count": 39,
   "metadata": {},
   "outputs": [
    {
     "data": {
      "image/png": "[encoded data removed]",
      "text/plain": [
       "<Figure size 432x288 with 1 Axes>"
      ]
     },
     "metadata": {},
     "output_type": "display_data"
    },
    {
     "data": {
      "text/plain": [
       "<Figure size 432x288 with 0 Axes>"
      ]
     },
     "metadata": {},
     "output_type": "display_data"
    },
    {
     "data": {
      "image/png": "[encoded data removed]",
      "text/plain": [
       "<Figure size 432x288 with 1 Axes>"
      ]
     },
     "metadata": {},
     "output_type": "display_data"
    }
   ],
   "source": [
    "import matplotlib.pyplot as plt\n",
    "\n",
    "history.history[\"loss\"][0] =history.history[\"loss\"][1] \n",
    "acc = history.history[\"acc\"] # Training accuracy\n",
    "val_acc = history.history[\"val_acc\"] # Validation accuracy\n",
    "loss = history.history[\"loss\"] # Training loss\n",
    "val_loss = history.history[\"val_loss\"] # Validation loss\n",
    "\n",
    "epochs = range(1, len(acc) + 1) #plots every epoch, here 10\n",
    "\n",
    "plt.plot(epochs, acc, \"bo\", label = \"Training acc\") # \"bo\" gives dot plot\n",
    "plt.plot(epochs, val_acc, \"b\", label = \"Validation acc\") # \"b\" gives line plot\n",
    "plt.title(\"Training and validation accuracy\")\n",
    "plt.ylim((0,1))\n",
    "plt.legend()\n",
    "plt.figure()\n",
    "plt.show()\n",
    "\n",
    "plt.plot(epochs, loss, \"bo\", label = \"Training loss\")\n",
    "plt.plot(epochs, val_loss, \"b\", label = \"Validation loss\")\n",
    "plt.title(\"Training and validation loss\")\n",
    "plt.legend()\n",
    "\n",
    "plt.show()"
   ]
  },
  {
   "cell_type": "code",
   "execution_count": null,
   "metadata": {},
   "outputs": [],
   "source": []
  },
  {
   "cell_type": "code",
   "execution_count": null,
   "metadata": {},
   "outputs": [],
   "source": []
  },
  {
   "cell_type": "code",
   "execution_count": null,
   "metadata": {},
   "outputs": [],
   "source": []
  },
  {
   "cell_type": "code",
   "execution_count": 32,
   "metadata": {},
   "outputs": [
    {
     "name": "stdout",
     "output_type": "stream",
     "text": [
      "[0 0 0 0 0 0 0 0 0 1]\n",
      "[0, 0, 0, 0, 0, 0, 0, 0, 0, 0]\n",
      "(50000,)\n",
      "(50000,)\n",
      "accuracy :0.52534\n"
     ]
    }
   ],
   "source": [
    "prediction = model.predict(X_test)\n",
    "y_pred = (prediction > 0.5).astype(int).reshape(-1,)\n"
   ]
  },
  {
   "cell_type": "code",
   "execution_count": 43,
   "metadata": {},
   "outputs": [
    {
     "name": "stdout",
     "output_type": "stream",
     "text": [
      "[0 0 0 0 0 0 0 0 0 0 0 0 0 0 0 0 0 0 0 0 0 0 0 0 0 0 1 0 0 0 0 0 0 0 0 0 0\n",
      " 0 0 0 0 0 0 0 0 0 0 0 0 0 1 1 0 0 0 0 1 0 0 0 0 1 0 0 0 0 0 0 0 0 0 0 0 0\n",
      " 0 1 0 0 0 0 0 0 0 0 0 0 1 0 0 0 0 0 0 0 0 0 0 0 0 0 1 0 0 0 0 0 0 0 0 0 0\n",
      " 0 0 0 0 0 0 0 0 0 1 0 0 0 0 0 0 0 0 0 0 0 0 0 0 0 0 0 0 0 0 0 0 0 0 0 0 0\n",
      " 0 0 0 0 0 1 0 0 0 0 0 0 0 0 0 0 0 0 0 0 0 0 0 0 0 1 0 0 0 0 0 0 0 0 0 0 0\n",
      " 0 0 0 0 0 0 0 0 0 0 0 1 0 0 0]\n",
      "[1 1 1 1 1 1 1 1 1 1 1 1 1 1 1 1 1 1 1 1 1 1 1 1 1 1 1 1 1 1 1 1 1 1 1 1 1\n",
      " 1 1 1 1 1 1 1 1 1 1 1 1 1 1 1 1 1 1 1 1 1 1 1 1 1 1 1 1 1 1 1 1 1 1 1 1 1\n",
      " 1 1 1 1 1 1 1 1 1 1 1 1 1 1 1 1 1 1 1 1 1 1 1 1 1 1 1 1 1 1 1 1 1 1 1 1 1\n",
      " 1 1 1 1 1 1 1 1 1 1 1 1 1 1 1 1 1 1 1 1 1 1 1 1 1 1 1 1 1 1 1 1 1 1 1 1 1\n",
      " 1 1 1 1 1 1 1 1 1 1 1 1 1 1 1 1 1 1 1 1 1 1 1 1 1 1 1 1 1 1 1 1 1 1 1 1 1\n",
      " 1 1 1 1 1 1 1 1 1 1 1 1 1 1 1]\n",
      "(50000,)\n",
      "(50000,)\n",
      "accuracy :0.52534\n"
     ]
    }
   ],
   "source": [
    "#print(y_pred[-200:])\n",
    "y_test = np.array(y_test)\n",
    "#print(y_test[-200:])\n",
    "#print(y_test.shape)\n",
    "#print(y_pred.shape)\n",
    "from sklearn.metrics import accuracy_score\n",
    "from sklearn.metrics import f1_score, confusion_matrix\n",
    "print('accuracy :{0}'.format(accuracy_score(y_pred, y_test)))"
   ]
  },
  {
   "cell_type": "code",
   "execution_count": null,
   "metadata": {},
   "outputs": [],
   "source": [
    "#################################################################\n",
    "#Save train history as dict \n",
    "#################################################################\n",
    "\n",
    "with open(r\"/usr4/cs542sp/zzjiang/History/Yoon_kim_original\", \"wb\") as output_file:\n",
    "    pickle.dump(history.history, output_file)\n",
    "\n",
    "\n"
   ]
  }
 ],
 "metadata": {
  "kernelspec": {
   "display_name": "Python 3",
   "language": "python",
   "name": "python3"
  },
  "language_info": {
   "codemirror_mode": {
    "name": "ipython",
    "version": 3
   },
   "file_extension": ".py",
   "mimetype": "text/x-python",
   "name": "python",
   "nbconvert_exporter": "python",
   "pygments_lexer": "ipython3",
   "version": "3.6.5"
  }
 },
 "nbformat": 4,
 "nbformat_minor": 2
}
