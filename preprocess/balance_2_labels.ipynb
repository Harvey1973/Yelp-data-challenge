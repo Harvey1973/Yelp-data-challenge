{
 "cells": [
  {
   "cell_type": "code",
   "execution_count": 1,
   "metadata": {},
   "outputs": [],
   "source": [
    "import pandas as pd"
   ]
  },
  {
   "cell_type": "code",
   "execution_count": 3,
   "metadata": {},
   "outputs": [],
   "source": [
    "df = pd.read_csv(\"/Users/harvey/Desktop/Data/restuarant_review_balanced.csv\")"
   ]
  },
  {
   "cell_type": "code",
   "execution_count": 4,
   "metadata": {},
   "outputs": [
    {
     "data": {
      "text/html": [
       "<div>\n",
       "<style scoped>\n",
       "    .dataframe tbody tr th:only-of-type {\n",
       "        vertical-align: middle;\n",
       "    }\n",
       "\n",
       "    .dataframe tbody tr th {\n",
       "        vertical-align: top;\n",
       "    }\n",
       "\n",
       "    .dataframe thead th {\n",
       "        text-align: right;\n",
       "    }\n",
       "</style>\n",
       "<table border=\"1\" class=\"dataframe\">\n",
       "  <thead>\n",
       "    <tr style=\"text-align: right;\">\n",
       "      <th></th>\n",
       "      <th>sentiment</th>\n",
       "      <th>stars</th>\n",
       "      <th>Processed_Reviews</th>\n",
       "    </tr>\n",
       "  </thead>\n",
       "  <tbody>\n",
       "    <tr>\n",
       "      <th>0</th>\n",
       "      <td>0</td>\n",
       "      <td>1</td>\n",
       "      <td>place go hill clearly cut back staff food qual...</td>\n",
       "    </tr>\n",
       "    <tr>\n",
       "      <th>1</th>\n",
       "      <td>0</td>\n",
       "      <td>1</td>\n",
       "      <td>walk around friday afternoon sit table bar wal...</td>\n",
       "    </tr>\n",
       "    <tr>\n",
       "      <th>2</th>\n",
       "      <td>0</td>\n",
       "      <td>1</td>\n",
       "      <td>cannot believe things change years pick duck c...</td>\n",
       "    </tr>\n",
       "    <tr>\n",
       "      <th>3</th>\n",
       "      <td>1</td>\n",
       "      <td>5</td>\n",
       "      <td>cant really find anything wrong place pastas p...</td>\n",
       "    </tr>\n",
       "    <tr>\n",
       "      <th>4</th>\n",
       "      <td>1</td>\n",
       "      <td>4</td>\n",
       "      <td>great lunch today staff helpful assist selecti...</td>\n",
       "    </tr>\n",
       "  </tbody>\n",
       "</table>\n",
       "</div>"
      ],
      "text/plain": [
       "   sentiment  stars                                  Processed_Reviews\n",
       "0          0      1  place go hill clearly cut back staff food qual...\n",
       "1          0      1  walk around friday afternoon sit table bar wal...\n",
       "2          0      1  cannot believe things change years pick duck c...\n",
       "3          1      5  cant really find anything wrong place pastas p...\n",
       "4          1      4  great lunch today staff helpful assist selecti..."
      ]
     },
     "execution_count": 4,
     "metadata": {},
     "output_type": "execute_result"
    }
   ],
   "source": [
    "df.head()"
   ]
  },
  {
   "cell_type": "code",
   "execution_count": 8,
   "metadata": {},
   "outputs": [
    {
     "name": "stdout",
     "output_type": "stream",
     "text": [
      "    sentiment  stars                                  Processed_Reviews\n",
      "0           0      1  place go hill clearly cut back staff food qual...\n",
      "1           0      1  walk around friday afternoon sit table bar wal...\n",
      "2           0      1  cannot believe things change years pick duck c...\n",
      "3           1      5  cant really find anything wrong place pastas p...\n",
      "4           1      4  great lunch today staff helpful assist selecti...\n",
      "5           1      5  look best pierogies pittsburgh place small tab...\n",
      "6           1      4  food always good price reasonable although exa...\n",
      "7           0      1  give place star would hot pot though im good j...\n",
      "8           0      1  love place downtown scottsdale location manner...\n",
      "9           1      5  best chinese resto highly recommend star let u...\n",
      "10          0      1  come thursday night pm friends reservation nee...\n",
      "11          0      2  go last weekend pretty disappoint one thing pi...\n",
      "12          1      4  dinner fantastic service great start corn soup...\n",
      "13          0      1  meet friend dinner tonight server bring us one...\n",
      "14          1      5  party order fish tacos pork belly banh mi corn...\n",
      "(137175, 3)\n",
      "(120985, 3)\n"
     ]
    }
   ],
   "source": [
    "print(df[:15])\n",
    "positive = df[df['sentiment'] == 1]\n",
    "negative = df[df['sentiment'] == 0]\n",
    "print(positive.shape)\n",
    "print(negative.shape)"
   ]
  },
  {
   "cell_type": "code",
   "execution_count": 13,
   "metadata": {},
   "outputs": [],
   "source": [
    "# drop stars \n",
    "df = df.drop(\"stars\",axis = 1)"
   ]
  },
  {
   "cell_type": "code",
   "execution_count": 15,
   "metadata": {},
   "outputs": [
    {
     "data": {
      "text/html": [
       "<div>\n",
       "<style scoped>\n",
       "    .dataframe tbody tr th:only-of-type {\n",
       "        vertical-align: middle;\n",
       "    }\n",
       "\n",
       "    .dataframe tbody tr th {\n",
       "        vertical-align: top;\n",
       "    }\n",
       "\n",
       "    .dataframe thead th {\n",
       "        text-align: right;\n",
       "    }\n",
       "</style>\n",
       "<table border=\"1\" class=\"dataframe\">\n",
       "  <thead>\n",
       "    <tr style=\"text-align: right;\">\n",
       "      <th></th>\n",
       "      <th>sentiment</th>\n",
       "      <th>Processed_Reviews</th>\n",
       "    </tr>\n",
       "  </thead>\n",
       "  <tbody>\n",
       "    <tr>\n",
       "      <th>0</th>\n",
       "      <td>0</td>\n",
       "      <td>place go hill clearly cut back staff food qual...</td>\n",
       "    </tr>\n",
       "    <tr>\n",
       "      <th>1</th>\n",
       "      <td>0</td>\n",
       "      <td>walk around friday afternoon sit table bar wal...</td>\n",
       "    </tr>\n",
       "    <tr>\n",
       "      <th>2</th>\n",
       "      <td>0</td>\n",
       "      <td>cannot believe things change years pick duck c...</td>\n",
       "    </tr>\n",
       "    <tr>\n",
       "      <th>3</th>\n",
       "      <td>1</td>\n",
       "      <td>cant really find anything wrong place pastas p...</td>\n",
       "    </tr>\n",
       "    <tr>\n",
       "      <th>4</th>\n",
       "      <td>1</td>\n",
       "      <td>great lunch today staff helpful assist selecti...</td>\n",
       "    </tr>\n",
       "    <tr>\n",
       "      <th>5</th>\n",
       "      <td>1</td>\n",
       "      <td>look best pierogies pittsburgh place small tab...</td>\n",
       "    </tr>\n",
       "    <tr>\n",
       "      <th>6</th>\n",
       "      <td>1</td>\n",
       "      <td>food always good price reasonable although exa...</td>\n",
       "    </tr>\n",
       "    <tr>\n",
       "      <th>7</th>\n",
       "      <td>0</td>\n",
       "      <td>give place star would hot pot though im good j...</td>\n",
       "    </tr>\n",
       "    <tr>\n",
       "      <th>8</th>\n",
       "      <td>0</td>\n",
       "      <td>love place downtown scottsdale location manner...</td>\n",
       "    </tr>\n",
       "    <tr>\n",
       "      <th>9</th>\n",
       "      <td>1</td>\n",
       "      <td>best chinese resto highly recommend star let u...</td>\n",
       "    </tr>\n",
       "    <tr>\n",
       "      <th>10</th>\n",
       "      <td>0</td>\n",
       "      <td>come thursday night pm friends reservation nee...</td>\n",
       "    </tr>\n",
       "    <tr>\n",
       "      <th>11</th>\n",
       "      <td>0</td>\n",
       "      <td>go last weekend pretty disappoint one thing pi...</td>\n",
       "    </tr>\n",
       "    <tr>\n",
       "      <th>12</th>\n",
       "      <td>1</td>\n",
       "      <td>dinner fantastic service great start corn soup...</td>\n",
       "    </tr>\n",
       "    <tr>\n",
       "      <th>13</th>\n",
       "      <td>0</td>\n",
       "      <td>meet friend dinner tonight server bring us one...</td>\n",
       "    </tr>\n",
       "    <tr>\n",
       "      <th>14</th>\n",
       "      <td>1</td>\n",
       "      <td>party order fish tacos pork belly banh mi corn...</td>\n",
       "    </tr>\n",
       "  </tbody>\n",
       "</table>\n",
       "</div>"
      ],
      "text/plain": [
       "    sentiment                                  Processed_Reviews\n",
       "0           0  place go hill clearly cut back staff food qual...\n",
       "1           0  walk around friday afternoon sit table bar wal...\n",
       "2           0  cannot believe things change years pick duck c...\n",
       "3           1  cant really find anything wrong place pastas p...\n",
       "4           1  great lunch today staff helpful assist selecti...\n",
       "5           1  look best pierogies pittsburgh place small tab...\n",
       "6           1  food always good price reasonable although exa...\n",
       "7           0  give place star would hot pot though im good j...\n",
       "8           0  love place downtown scottsdale location manner...\n",
       "9           1  best chinese resto highly recommend star let u...\n",
       "10          0  come thursday night pm friends reservation nee...\n",
       "11          0  go last weekend pretty disappoint one thing pi...\n",
       "12          1  dinner fantastic service great start corn soup...\n",
       "13          0  meet friend dinner tonight server bring us one...\n",
       "14          1  party order fish tacos pork belly banh mi corn..."
      ]
     },
     "execution_count": 15,
     "metadata": {},
     "output_type": "execute_result"
    }
   ],
   "source": [
    "df[:15]"
   ]
  },
  {
   "cell_type": "code",
   "execution_count": 16,
   "metadata": {},
   "outputs": [],
   "source": [
    "df.columns = ['stars','Processed_Reviews']"
   ]
  },
  {
   "cell_type": "code",
   "execution_count": 17,
   "metadata": {},
   "outputs": [
    {
     "data": {
      "text/html": [
       "<div>\n",
       "<style scoped>\n",
       "    .dataframe tbody tr th:only-of-type {\n",
       "        vertical-align: middle;\n",
       "    }\n",
       "\n",
       "    .dataframe tbody tr th {\n",
       "        vertical-align: top;\n",
       "    }\n",
       "\n",
       "    .dataframe thead th {\n",
       "        text-align: right;\n",
       "    }\n",
       "</style>\n",
       "<table border=\"1\" class=\"dataframe\">\n",
       "  <thead>\n",
       "    <tr style=\"text-align: right;\">\n",
       "      <th></th>\n",
       "      <th>stars</th>\n",
       "      <th>Processed_Reviews</th>\n",
       "    </tr>\n",
       "  </thead>\n",
       "  <tbody>\n",
       "    <tr>\n",
       "      <th>0</th>\n",
       "      <td>0</td>\n",
       "      <td>place go hill clearly cut back staff food qual...</td>\n",
       "    </tr>\n",
       "    <tr>\n",
       "      <th>1</th>\n",
       "      <td>0</td>\n",
       "      <td>walk around friday afternoon sit table bar wal...</td>\n",
       "    </tr>\n",
       "    <tr>\n",
       "      <th>2</th>\n",
       "      <td>0</td>\n",
       "      <td>cannot believe things change years pick duck c...</td>\n",
       "    </tr>\n",
       "    <tr>\n",
       "      <th>3</th>\n",
       "      <td>1</td>\n",
       "      <td>cant really find anything wrong place pastas p...</td>\n",
       "    </tr>\n",
       "    <tr>\n",
       "      <th>4</th>\n",
       "      <td>1</td>\n",
       "      <td>great lunch today staff helpful assist selecti...</td>\n",
       "    </tr>\n",
       "  </tbody>\n",
       "</table>\n",
       "</div>"
      ],
      "text/plain": [
       "   stars                                  Processed_Reviews\n",
       "0      0  place go hill clearly cut back staff food qual...\n",
       "1      0  walk around friday afternoon sit table bar wal...\n",
       "2      0  cannot believe things change years pick duck c...\n",
       "3      1  cant really find anything wrong place pastas p...\n",
       "4      1  great lunch today staff helpful assist selecti..."
      ]
     },
     "execution_count": 17,
     "metadata": {},
     "output_type": "execute_result"
    }
   ],
   "source": [
    "df.head()"
   ]
  },
  {
   "cell_type": "code",
   "execution_count": 20,
   "metadata": {},
   "outputs": [
    {
     "name": "stdout",
     "output_type": "stream",
     "text": [
      "50000\n"
     ]
    }
   ],
   "source": [
    "import random\n",
    "##############################\n",
    "# Prepare train and test set \n",
    "##############################\n",
    "star1_index = df.index[df['stars'] == 0 ].tolist()\n",
    "test1_index = random.sample(star1_index, 25000)\n",
    "\n",
    "star2_index = df.index[df['stars'] == 1 ].tolist()\n",
    "test2_index = random.sample(star2_index, 25000)\n",
    "\n",
    "test_index = test1_index+test2_index\n",
    "print(len(test_index))"
   ]
  },
  {
   "cell_type": "code",
   "execution_count": 21,
   "metadata": {},
   "outputs": [
    {
     "name": "stdout",
     "output_type": "stream",
     "text": [
      "(50000, 2)\n",
      "negative reviews shape25000\n",
      "positive reviews shape25000\n"
     ]
    }
   ],
   "source": [
    "test = df.loc[test_index]\n",
    "print(test.shape)\n",
    "star1 = test[test['stars'] == 0]\n",
    "print(\"negative reviews shape\" + str(star1.shape[0]))\n",
    "star2 = test[test['stars'] == 1]\n",
    "print(\"positive reviews shape\" + str(star2.shape[0]))"
   ]
  },
  {
   "cell_type": "code",
   "execution_count": 22,
   "metadata": {},
   "outputs": [],
   "source": [
    "df = df.drop(test_index,axis = 0)"
   ]
  },
  {
   "cell_type": "code",
   "execution_count": 24,
   "metadata": {},
   "outputs": [
    {
     "name": "stdout",
     "output_type": "stream",
     "text": [
      "(112175, 2)\n",
      "(95985, 2)\n"
     ]
    }
   ],
   "source": [
    "positive = df[df['stars'] == 1]\n",
    "negative = df[df['stars'] == 0]\n",
    "print(positive.shape)\n",
    "print(negative.shape)"
   ]
  },
  {
   "cell_type": "code",
   "execution_count": 25,
   "metadata": {},
   "outputs": [],
   "source": [
    "df.to_csv(\"/Users/harvey/Desktop/Data/restuarant_balanced_2_train.csv\",index = False)\n",
    "test.to_csv(\"/Users/harvey/Desktop/Data/restuarant_balanced_2_test.csv\",index = False)"
   ]
  },
  {
   "cell_type": "code",
   "execution_count": null,
   "metadata": {},
   "outputs": [],
   "source": []
  }
 ],
 "metadata": {
  "kernelspec": {
   "display_name": "Python 3",
   "language": "python",
   "name": "python3"
  },
  "language_info": {
   "codemirror_mode": {
    "name": "ipython",
    "version": 3
   },
   "file_extension": ".py",
   "mimetype": "text/x-python",
   "name": "python",
   "nbconvert_exporter": "python",
   "pygments_lexer": "ipython3",
   "version": "3.6.4"
  }
 },
 "nbformat": 4,
 "nbformat_minor": 2
}
