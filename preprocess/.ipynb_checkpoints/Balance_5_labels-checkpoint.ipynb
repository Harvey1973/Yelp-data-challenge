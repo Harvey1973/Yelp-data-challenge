{
 "cells": [
  {
   "cell_type": "code",
   "execution_count": 103,
   "metadata": {},
   "outputs": [],
   "source": [
    "import pandas as pd\n",
    "from keras.preprocessing.text import Tokenizer\n",
    "from keras.preprocessing.sequence import pad_sequences\n",
    "from keras.layers import Dense , Input , LSTM , Embedding, Dropout , Activation, GRU, Flatten,Conv2D,Conv1D\n",
    "from keras.layers import Bidirectional, GlobalMaxPool1D\n",
    "from keras.models import Model, Sequential\n",
    "from keras.layers import Convolution1D\n",
    "from keras import initializers, regularizers, constraints, optimizers, layers\n",
    "from keras.utils import to_categorical\n",
    "import numpy as np"
   ]
  },
  {
   "cell_type": "code",
   "execution_count": 104,
   "metadata": {},
   "outputs": [],
   "source": [
    "df = pd.read_csv(\"C:/Users/Harvey/Desktop/Yelp_data_set/restuarant_review_5_label_unbalanced.csv\",engine = 'python')"
   ]
  },
  {
   "cell_type": "code",
   "execution_count": 105,
   "metadata": {},
   "outputs": [
    {
     "data": {
      "text/html": [
       "<div>\n",
       "<style scoped>\n",
       "    .dataframe tbody tr th:only-of-type {\n",
       "        vertical-align: middle;\n",
       "    }\n",
       "\n",
       "    .dataframe tbody tr th {\n",
       "        vertical-align: top;\n",
       "    }\n",
       "\n",
       "    .dataframe thead th {\n",
       "        text-align: right;\n",
       "    }\n",
       "</style>\n",
       "<table border=\"1\" class=\"dataframe\">\n",
       "  <thead>\n",
       "    <tr style=\"text-align: right;\">\n",
       "      <th></th>\n",
       "      <th>stars</th>\n",
       "      <th>Processed_Reviews</th>\n",
       "    </tr>\n",
       "  </thead>\n",
       "  <tbody>\n",
       "    <tr>\n",
       "      <th>0</th>\n",
       "      <td>5</td>\n",
       "      <td>go lunch steak sandwich delicious caesar salad...</td>\n",
       "    </tr>\n",
       "    <tr>\n",
       "      <th>1</th>\n",
       "      <td>4</td>\n",
       "      <td>ill first admit excite go la tavolta food snob...</td>\n",
       "    </tr>\n",
       "    <tr>\n",
       "      <th>2</th>\n",
       "      <td>3</td>\n",
       "      <td>tracy dessert big name hong kong one first mar...</td>\n",
       "    </tr>\n",
       "    <tr>\n",
       "      <th>3</th>\n",
       "      <td>1</td>\n",
       "      <td>place go hill clearly cut back staff food qual...</td>\n",
       "    </tr>\n",
       "    <tr>\n",
       "      <th>4</th>\n",
       "      <td>4</td>\n",
       "      <td>like walk back time every saturday morning sis...</td>\n",
       "    </tr>\n",
       "    <tr>\n",
       "      <th>5</th>\n",
       "      <td>1</td>\n",
       "      <td>walk around friday afternoon sit table bar wal...</td>\n",
       "    </tr>\n",
       "    <tr>\n",
       "      <th>6</th>\n",
       "      <td>4</td>\n",
       "      <td>wow surprise one two star review start tender ...</td>\n",
       "    </tr>\n",
       "    <tr>\n",
       "      <th>7</th>\n",
       "      <td>1</td>\n",
       "      <td>cannot believe things change years pick duck c...</td>\n",
       "    </tr>\n",
       "    <tr>\n",
       "      <th>8</th>\n",
       "      <td>5</td>\n",
       "      <td>cant really find anything wrong place pastas p...</td>\n",
       "    </tr>\n",
       "    <tr>\n",
       "      <th>9</th>\n",
       "      <td>4</td>\n",
       "      <td>great lunch today staff helpful assist selecti...</td>\n",
       "    </tr>\n",
       "    <tr>\n",
       "      <th>10</th>\n",
       "      <td>3</td>\n",
       "      <td>love chinese food love mexican food go wrong c...</td>\n",
       "    </tr>\n",
       "    <tr>\n",
       "      <th>11</th>\n",
       "      <td>5</td>\n",
       "      <td>weve huge slim fan since open one texas two ye...</td>\n",
       "    </tr>\n",
       "    <tr>\n",
       "      <th>12</th>\n",
       "      <td>3</td>\n",
       "      <td>good selection class beers mains ive twice fir...</td>\n",
       "    </tr>\n",
       "    <tr>\n",
       "      <th>13</th>\n",
       "      <td>5</td>\n",
       "      <td>family love food quick friendly delicious grea...</td>\n",
       "    </tr>\n",
       "    <tr>\n",
       "      <th>14</th>\n",
       "      <td>5</td>\n",
       "      <td>look best pierogies pittsburgh place small tab...</td>\n",
       "    </tr>\n",
       "  </tbody>\n",
       "</table>\n",
       "</div>"
      ],
      "text/plain": [
       "    stars                                  Processed_Reviews\n",
       "0       5  go lunch steak sandwich delicious caesar salad...\n",
       "1       4  ill first admit excite go la tavolta food snob...\n",
       "2       3  tracy dessert big name hong kong one first mar...\n",
       "3       1  place go hill clearly cut back staff food qual...\n",
       "4       4  like walk back time every saturday morning sis...\n",
       "5       1  walk around friday afternoon sit table bar wal...\n",
       "6       4  wow surprise one two star review start tender ...\n",
       "7       1  cannot believe things change years pick duck c...\n",
       "8       5  cant really find anything wrong place pastas p...\n",
       "9       4  great lunch today staff helpful assist selecti...\n",
       "10      3  love chinese food love mexican food go wrong c...\n",
       "11      5  weve huge slim fan since open one texas two ye...\n",
       "12      3  good selection class beers mains ive twice fir...\n",
       "13      5  family love food quick friendly delicious grea...\n",
       "14      5  look best pierogies pittsburgh place small tab..."
      ]
     },
     "execution_count": 105,
     "metadata": {},
     "output_type": "execute_result"
    }
   ],
   "source": [
    "df[:15]"
   ]
  },
  {
   "cell_type": "code",
   "execution_count": 106,
   "metadata": {},
   "outputs": [
    {
     "name": "stdout",
     "output_type": "stream",
     "text": [
      "1 star reviews shape67046\n",
      "2 star reviews shape53939\n",
      "3 star reviews shape77547\n",
      "4 star reviews shape154883\n",
      "5 star reviews shape237045\n"
     ]
    }
   ],
   "source": [
    "star1 = df[df['stars'] == 1]\n",
    "print(\"1 star reviews shape\" + str(star1.shape[0]))\n",
    "star2 = df[df['stars'] == 2]\n",
    "print(\"2 star reviews shape\" + str(star2.shape[0]))\n",
    "star3 = df[df['stars'] == 3]\n",
    "print(\"3 star reviews shape\" + str(star3.shape[0]))\n",
    "star4 = df[df['stars'] == 4]\n",
    "print(\"4 star reviews shape\" + str(star4.shape[0]))\n",
    "star5 = df[df['stars'] == 5]\n",
    "print(\"5 star reviews shape\" + str(star5.shape[0]))"
   ]
  },
  {
   "cell_type": "code",
   "execution_count": 107,
   "metadata": {},
   "outputs": [],
   "source": [
    "df = df.drop(df.query('stars == 5').sample(frac=.78).index)\n",
    "df = df.drop(df.query('stars == 4').sample(frac=.65).index)\n",
    "df = df.drop(df.query('stars == 3').sample(frac=.3).index)\n",
    "df = df.drop(df.query('stars == 1').sample(frac=.2).index)"
   ]
  },
  {
   "cell_type": "code",
   "execution_count": 108,
   "metadata": {},
   "outputs": [
    {
     "name": "stdout",
     "output_type": "stream",
     "text": [
      "1 star reviews shape53637\n",
      "2 star reviews shape53939\n",
      "3 star reviews shape54283\n",
      "4 star reviews shape54209\n",
      "5 star reviews shape52150\n"
     ]
    }
   ],
   "source": [
    "star1 = df[df['stars'] == 1]\n",
    "print(\"1 star reviews shape\" + str(star1.shape[0]))\n",
    "star2 = df[df['stars'] == 2]\n",
    "print(\"2 star reviews shape\" + str(star2.shape[0]))\n",
    "star3 = df[df['stars'] == 3]\n",
    "print(\"3 star reviews shape\" + str(star3.shape[0]))\n",
    "star4 = df[df['stars'] == 4]\n",
    "print(\"4 star reviews shape\" + str(star4.shape[0]))\n",
    "star5 = df[df['stars'] == 5]\n",
    "print(\"5 star reviews shape\" + str(star5.shape[0]))"
   ]
  },
  {
   "cell_type": "code",
   "execution_count": 109,
   "metadata": {},
   "outputs": [
    {
     "data": {
      "text/html": [
       "<div>\n",
       "<style scoped>\n",
       "    .dataframe tbody tr th:only-of-type {\n",
       "        vertical-align: middle;\n",
       "    }\n",
       "\n",
       "    .dataframe tbody tr th {\n",
       "        vertical-align: top;\n",
       "    }\n",
       "\n",
       "    .dataframe thead th {\n",
       "        text-align: right;\n",
       "    }\n",
       "</style>\n",
       "<table border=\"1\" class=\"dataframe\">\n",
       "  <thead>\n",
       "    <tr style=\"text-align: right;\">\n",
       "      <th></th>\n",
       "      <th>stars</th>\n",
       "      <th>Processed_Reviews</th>\n",
       "    </tr>\n",
       "  </thead>\n",
       "  <tbody>\n",
       "    <tr>\n",
       "      <th>3</th>\n",
       "      <td>1</td>\n",
       "      <td>place go hill clearly cut back staff food qual...</td>\n",
       "    </tr>\n",
       "    <tr>\n",
       "      <th>5</th>\n",
       "      <td>1</td>\n",
       "      <td>walk around friday afternoon sit table bar wal...</td>\n",
       "    </tr>\n",
       "    <tr>\n",
       "      <th>10</th>\n",
       "      <td>3</td>\n",
       "      <td>love chinese food love mexican food go wrong c...</td>\n",
       "    </tr>\n",
       "    <tr>\n",
       "      <th>12</th>\n",
       "      <td>3</td>\n",
       "      <td>good selection class beers mains ive twice fir...</td>\n",
       "    </tr>\n",
       "    <tr>\n",
       "      <th>16</th>\n",
       "      <td>5</td>\n",
       "      <td>pick meat planet chef make mexican style dish ...</td>\n",
       "    </tr>\n",
       "    <tr>\n",
       "      <th>19</th>\n",
       "      <td>1</td>\n",
       "      <td>give place star would hot pot though im good j...</td>\n",
       "    </tr>\n",
       "    <tr>\n",
       "      <th>20</th>\n",
       "      <td>5</td>\n",
       "      <td>end raku close receive great rat yelp im glad ...</td>\n",
       "    </tr>\n",
       "    <tr>\n",
       "      <th>21</th>\n",
       "      <td>1</td>\n",
       "      <td>love place downtown scottsdale location manner...</td>\n",
       "    </tr>\n",
       "    <tr>\n",
       "      <th>23</th>\n",
       "      <td>1</td>\n",
       "      <td>come thursday night pm friends reservation nee...</td>\n",
       "    </tr>\n",
       "    <tr>\n",
       "      <th>24</th>\n",
       "      <td>2</td>\n",
       "      <td>go last weekend pretty disappoint one thing pi...</td>\n",
       "    </tr>\n",
       "    <tr>\n",
       "      <th>25</th>\n",
       "      <td>5</td>\n",
       "      <td>place epitomize rumor transformation process t...</td>\n",
       "    </tr>\n",
       "    <tr>\n",
       "      <th>26</th>\n",
       "      <td>4</td>\n",
       "      <td>dinner fantastic service great start corn soup...</td>\n",
       "    </tr>\n",
       "    <tr>\n",
       "      <th>27</th>\n",
       "      <td>1</td>\n",
       "      <td>meet friend dinner tonight server bring us one...</td>\n",
       "    </tr>\n",
       "    <tr>\n",
       "      <th>28</th>\n",
       "      <td>4</td>\n",
       "      <td>another solid bbq place calgary definitely gre...</td>\n",
       "    </tr>\n",
       "    <tr>\n",
       "      <th>30</th>\n",
       "      <td>1</td>\n",
       "      <td>dinner bellagio buffet last night service ok s...</td>\n",
       "    </tr>\n",
       "  </tbody>\n",
       "</table>\n",
       "</div>"
      ],
      "text/plain": [
       "    stars                                  Processed_Reviews\n",
       "3       1  place go hill clearly cut back staff food qual...\n",
       "5       1  walk around friday afternoon sit table bar wal...\n",
       "10      3  love chinese food love mexican food go wrong c...\n",
       "12      3  good selection class beers mains ive twice fir...\n",
       "16      5  pick meat planet chef make mexican style dish ...\n",
       "19      1  give place star would hot pot though im good j...\n",
       "20      5  end raku close receive great rat yelp im glad ...\n",
       "21      1  love place downtown scottsdale location manner...\n",
       "23      1  come thursday night pm friends reservation nee...\n",
       "24      2  go last weekend pretty disappoint one thing pi...\n",
       "25      5  place epitomize rumor transformation process t...\n",
       "26      4  dinner fantastic service great start corn soup...\n",
       "27      1  meet friend dinner tonight server bring us one...\n",
       "28      4  another solid bbq place calgary definitely gre...\n",
       "30      1  dinner bellagio buffet last night service ok s..."
      ]
     },
     "execution_count": 109,
     "metadata": {},
     "output_type": "execute_result"
    }
   ],
   "source": [
    "df[:15]"
   ]
  },
  {
   "cell_type": "code",
   "execution_count": 110,
   "metadata": {},
   "outputs": [
    {
     "name": "stdout",
     "output_type": "stream",
     "text": [
      "53637\n",
      "[3, 5, 19, 21, 23, 27, 30, 44, 46, 51]\n",
      "10000\n",
      "[435876, 191103, 515914, 84201, 81617, 388397, 203656, 355151, 93185, 446945]\n",
      "50000\n"
     ]
    }
   ],
   "source": [
    "import random\n",
    "##############################\n",
    "# Prepare train and test set \n",
    "##############################\n",
    "star1_index = df.index[df['stars'] == 1 ].tolist()\n",
    "test1_index = random.sample(star1_index, 10000)\n",
    "print(len(star1_index))\n",
    "print(star1_index[:10])\n",
    "print(len(test1_index))\n",
    "print(test1_index[:10])\n",
    "star2_index = df.index[df['stars'] == 2 ].tolist()\n",
    "test2_index = random.sample(star2_index, 10000)\n",
    "\n",
    "star3_index = df.index[df['stars'] == 3 ].tolist()\n",
    "test3_index = random.sample(star3_index, 10000)\n",
    "\n",
    "star4_index = df.index[df['stars'] == 4 ].tolist()\n",
    "test4_index = random.sample(star4_index, 10000)\n",
    "\n",
    "star5_index = df.index[df['stars'] == 5 ].tolist()\n",
    "test5_index = random.sample(star5_index, 10000)\n",
    "\n",
    "test_index = test1_index+test2_index+test3_index+test4_index+test5_index\n",
    "print(len(test_index))"
   ]
  },
  {
   "cell_type": "code",
   "execution_count": 111,
   "metadata": {},
   "outputs": [
    {
     "name": "stdout",
     "output_type": "stream",
     "text": [
      "[435876, 191103, 515914, 84201, 81617, 388397, 203656, 355151, 93185, 446945]\n",
      "(50000, 2)\n",
      "1 star reviews shape10000\n",
      "2 star reviews shape10000\n",
      "3 star reviews shape10000\n",
      "4 star reviews shape10000\n",
      "5 star reviews shape10000\n"
     ]
    }
   ],
   "source": [
    "print(test_index[:10])\n",
    "test = df.loc[test_index]\n",
    "print(test.shape)\n",
    "star1 = test[test['stars'] == 1]\n",
    "print(\"1 star reviews shape\" + str(star1.shape[0]))\n",
    "star2 = test[test['stars'] == 2]\n",
    "print(\"2 star reviews shape\" + str(star2.shape[0]))\n",
    "star3 = test[test['stars'] == 3]\n",
    "print(\"3 star reviews shape\" + str(star3.shape[0]))\n",
    "star4 = test[test['stars'] == 4]\n",
    "print(\"4 star reviews shape\" + str(star4.shape[0]))\n",
    "star5 = test[test['stars'] == 5]\n",
    "print(\"5 star reviews shape\" + str(star5.shape[0]))"
   ]
  },
  {
   "cell_type": "code",
   "execution_count": 112,
   "metadata": {},
   "outputs": [],
   "source": [
    "df = df.drop(test_index,axis = 0)"
   ]
  },
  {
   "cell_type": "code",
   "execution_count": 113,
   "metadata": {},
   "outputs": [
    {
     "name": "stdout",
     "output_type": "stream",
     "text": [
      "1 star reviews shape43637\n",
      "2 star reviews shape43939\n",
      "3 star reviews shape44283\n",
      "4 star reviews shape44209\n",
      "5 star reviews shape42150\n"
     ]
    }
   ],
   "source": [
    "star1 = df[df['stars'] == 1]\n",
    "print(\"1 star reviews shape\" + str(star1.shape[0]))\n",
    "star2 = df[df['stars'] == 2]\n",
    "print(\"2 star reviews shape\" + str(star2.shape[0]))\n",
    "star3 = df[df['stars'] == 3]\n",
    "print(\"3 star reviews shape\" + str(star3.shape[0]))\n",
    "star4 = df[df['stars'] == 4]\n",
    "print(\"4 star reviews shape\" + str(star4.shape[0]))\n",
    "star5 = df[df['stars'] == 5]\n",
    "print(\"5 star reviews shape\" + str(star5.shape[0]))"
   ]
  },
  {
   "cell_type": "code",
   "execution_count": 114,
   "metadata": {},
   "outputs": [],
   "source": [
    "df.to_csv(\"C:/Users/Harvey/Desktop/Yelp_data_set/restuarant_balance_5_train.csv\",index = False)\n",
    "test.to_csv(\"C:/Users/Harvey/Desktop/Yelp_data_set/restuarant_balance_5_test.csv\",index = False)"
   ]
  },
  {
   "cell_type": "code",
   "execution_count": null,
   "metadata": {},
   "outputs": [],
   "source": [
    "train = pd.read_csv(\"C:/Users/Harvey/Desktop/Yelp_data_set/restuarant_balance_5_train.csv\")\n",
    "train = pd.read_csv(\"C:/Users/Harvey/Desktop/Yelp_data_set/restuarant_balance_5_train.csv\")"
   ]
  }
 ],
 "metadata": {
  "kernelspec": {
   "display_name": "Python 3",
   "language": "python",
   "name": "python3"
  },
  "language_info": {
   "codemirror_mode": {
    "name": "ipython",
    "version": 3
   },
   "file_extension": ".py",
   "mimetype": "text/x-python",
   "name": "python",
   "nbconvert_exporter": "python",
   "pygments_lexer": "ipython3",
   "version": "3.6.4"
  }
 },
 "nbformat": 4,
 "nbformat_minor": 2
}
